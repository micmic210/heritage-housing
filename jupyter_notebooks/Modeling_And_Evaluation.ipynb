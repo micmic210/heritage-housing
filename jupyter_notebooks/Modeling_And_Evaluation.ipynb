{
  "cells": [
    {
      "cell_type": "markdown",
      "metadata": {
        "id": "0aStgWSO0E0E"
      },
      "source": [
        "# **Modeling and Evaluation Notebook**"
      ]
    },
    {
      "cell_type": "markdown",
      "metadata": {
        "id": "1eLEkw5O0ECa"
      },
      "source": [
        "## Objectives\n",
        "\n",
        "- Answer Business Requirement 2: train regression models to predict house sale prices\n",
        "- Fit and evaluate a regression model to predict the sale price of a house\n",
        "\n",
        "## Inputs\n",
        "\n",
        "- outputs/datasets/cleaned/HousePricesCleaned.csv\n",
        "- Instructions on which variables to use for data cleaning and feature engineering. They are found in each respective notebook.\n",
        "\n",
        "## Outputs\n",
        "\n",
        "- Train set (features and target)\n",
        "- Test set (features and target)\n",
        "- ML pipeline to predict sale price\n",
        "- Feature importance plot\n",
        "\n"
      ]
    },
    {
      "cell_type": "markdown",
      "metadata": {
        "id": "9uWZXH9LwoQg"
      },
      "source": [
        "---"
      ]
    },
    {
      "cell_type": "markdown",
      "metadata": {
        "id": "cqP-UeN-z3i2"
      },
      "source": [
        "# Change working directory"
      ]
    },
    {
      "cell_type": "code",
      "execution_count": 1,
      "metadata": {
        "id": "wZfF_j-Bz3i4",
        "outputId": "66943449-1436-4c3d-85c7-b85f9f78349b"
      },
      "outputs": [
        {
          "name": "stdout",
          "output_type": "stream",
          "text": [
            "Working dir: /workspaces/heritage-housing\n"
          ]
        }
      ],
      "source": [
        "import os\n",
        "\n",
        "# set project root\n",
        "dir_path = os.getcwd()\n",
        "os.chdir(os.path.dirname(dir_path))\n",
        "print(\"Working dir:\", os.getcwd())"
      ]
    },
    {
      "cell_type": "markdown",
      "metadata": {
        "id": "-mavJ8DibrcQ"
      },
      "source": [
        "## Load Feature Engineered Datasets"
      ]
    },
    {
      "cell_type": "code",
      "execution_count": 2,
      "metadata": {},
      "outputs": [
        {
          "name": "stdout",
          "output_type": "stream",
          "text": [
            "* Train set: (1168, 21) (1168,)\n",
            "* Test set: (292, 21) (292,)\n"
          ]
        }
      ],
      "source": [
        "import pandas as pd\n",
        "\n",
        "# Load Train Set\n",
        "train_path = \"outputs/datasets/feature_engineered/Train_FE.csv\"\n",
        "train_df = pd.read_csv(train_path)\n",
        "\n",
        "# Load Test Set\n",
        "test_path = \"outputs/datasets/feature_engineered/Test_FE.csv\"\n",
        "test_df = pd.read_csv(test_path)\n",
        "\n",
        "# Split features and target\n",
        "X_train = train_df.drop(\"SalePrice\", axis=1)\n",
        "y_train = train_df[\"SalePrice\"]\n",
        "\n",
        "X_test = test_df.drop(\"SalePrice\", axis=1)\n",
        "y_test = test_df[\"SalePrice\"]\n",
        "\n",
        "print(\"* Train set:\", X_train.shape, y_train.shape)\n",
        "print(\"* Test set:\", X_test.shape, y_test.shape)"
      ]
    },
    {
      "cell_type": "markdown",
      "metadata": {
        "id": "ZY3l0-AxO93d"
      },
      "source": [
        "---"
      ]
    },
    {
      "cell_type": "markdown",
      "metadata": {},
      "source": [
        "## Import Libraries and Suppress Warnings"
      ]
    },
    {
      "cell_type": "code",
      "execution_count": 3,
      "metadata": {},
      "outputs": [],
      "source": [
        "import warnings\n",
        "\n",
        "warnings.filterwarnings(\"ignore\", category=FutureWarning)\n",
        "\n",
        "import numpy as np\n",
        "\n",
        "from sklearn.pipeline import Pipeline\n",
        "from sklearn.preprocessing import StandardScaler\n",
        "from sklearn.feature_selection import SelectFromModel\n",
        "from sklearn.tree import DecisionTreeRegressor\n",
        "from xgboost import XGBRegressor\n",
        "from sklearn.ensemble import (\n",
        "    GradientBoostingRegressor,\n",
        "    RandomForestRegressor,\n",
        "    AdaBoostRegressor,\n",
        "    ExtraTreesRegressor,\n",
        ")\n",
        "from sklearn.linear_model import LinearRegression\n"
      ]
    },
    {
      "cell_type": "markdown",
      "metadata": {},
      "source": [
        "### Load feature engineered datasets"
      ]
    },
    {
      "cell_type": "code",
      "execution_count": 4,
      "metadata": {},
      "outputs": [],
      "source": [
        "\n",
        "X_train = pd.read_csv(\"outputs/datasets/feature_engineered/Train_FE.csv\").drop(\n",
        "    \"SalePrice\", axis=1\n",
        ")\n",
        "y_train = pd.read_csv(\"outputs/datasets/feature_engineered/Train_FE.csv\")[\"SalePrice\"]\n",
        "\n",
        "X_test = pd.read_csv(\"outputs/datasets/feature_engineered/Test_FE.csv\").drop(\n",
        "    \"SalePrice\", axis=1\n",
        ")\n",
        "y_test = pd.read_csv(\"outputs/datasets/feature_engineered/Test_FE.csv\")[\"SalePrice\"]"
      ]
    },
    {
      "cell_type": "markdown",
      "metadata": {},
      "source": [
        "Custom Class for Hyperparameter Optimization from Code Institute:"
      ]
    },
    {
      "cell_type": "code",
      "execution_count": 5,
      "metadata": {},
      "outputs": [],
      "source": [
        "from sklearn.model_selection import GridSearchCV\n",
        "\n",
        "\n",
        "class HyperparameterOptimizationSearch:\n",
        "\n",
        "    def __init__(self, models, params):\n",
        "        self.models = models\n",
        "        self.params = params\n",
        "        self.keys = models.keys()\n",
        "        self.grid_searches = {}\n",
        "\n",
        "    def fit(self, X, y, cv, n_jobs, verbose=1, scoring=None, refit=False):\n",
        "        for key in self.keys:\n",
        "            print(f\"\\nRunning GridSearchCV for {key} \\n\")\n",
        "            model = PipelineRgr(self.models[key])\n",
        "\n",
        "            params = self.params[key]\n",
        "            gs = GridSearchCV(\n",
        "                model, params, cv=cv, n_jobs=n_jobs, verbose=verbose, scoring=scoring\n",
        "            )\n",
        "            gs.fit(X, y)\n",
        "            self.grid_searches[key] = gs\n",
        "\n",
        "    def score_summary(self, sort_by=\"mean_score\"):\n",
        "        def row(key, scores, params):\n",
        "            d = {\n",
        "                \"estimator\": key,\n",
        "                \"min_score\": min(scores),\n",
        "                \"max_score\": max(scores),\n",
        "                \"mean_score\": np.mean(scores),\n",
        "                \"std_score\": np.std(scores),\n",
        "            }\n",
        "            return pd.Series({**params, **d})\n",
        "\n",
        "        rows = []\n",
        "        for k in self.grid_searches:\n",
        "            params = self.grid_searches[k].cv_results_[\"params\"]\n",
        "            scores = []\n",
        "            for i in range(self.grid_searches[k].cv):\n",
        "                key = \"split{}_test_score\".format(i)\n",
        "                r = self.grid_searches[k].cv_results_[key]\n",
        "                scores.append(r.reshape(len(params), 1))\n",
        "\n",
        "            all_scores = np.hstack(scores)\n",
        "            for p, s in zip(params, all_scores):\n",
        "                rows.append((row(k, s, p)))\n",
        "\n",
        "        df = pd.concat(rows, axis=1).T.sort_values([sort_by], ascending=False)\n",
        "\n",
        "        columns = [\"estimator\", \"min_score\", \"mean_score\", \"max_score\", \"std_score\"]\n",
        "        columns = columns + [c for c in df.columns if c not in columns]\n",
        "\n",
        "        return df[columns], self.grid_searches"
      ]
    },
    {
      "cell_type": "code",
      "execution_count": 6,
      "metadata": {},
      "outputs": [],
      "source": [
        "def PipelineRgr(model):\n",
        "    pipeline_base = Pipeline(\n",
        "        [\n",
        "            (\"scaler\", StandardScaler()),\n",
        "            (\"feat_selection\", SelectFromModel(model)),\n",
        "            (\"model\", model),\n",
        "        ]\n",
        "    )\n",
        "    return pipeline_base"
      ]
    },
    {
      "cell_type": "markdown",
      "metadata": {},
      "source": [
        "---"
      ]
    },
    {
      "cell_type": "markdown",
      "metadata": {},
      "source": [
        "## Grid Search CV - SKlearn"
      ]
    },
    {
      "cell_type": "markdown",
      "metadata": {},
      "source": [
        "Use standard hyperparameters to find most suitable algorithm"
      ]
    },
    {
      "cell_type": "code",
      "execution_count": 7,
      "metadata": {},
      "outputs": [],
      "source": [
        "from sklearn.linear_model import LinearRegression\n",
        "from sklearn.ensemble import RandomForestRegressor, GradientBoostingRegressor\n",
        "\n",
        "models_quick_search = {\n",
        "    \"LinearRegression\": LinearRegression(),\n",
        "    \"RandomForestRegressor\": RandomForestRegressor(random_state=0),\n",
        "    \"GradientBoostingRegressor\": GradientBoostingRegressor(random_state=0),\n",
        "}\n",
        "\n",
        "params_quick_search = {\n",
        "    \"LinearRegression\": {},  \n",
        "\n",
        "    \"RandomForestRegressor\": {\n",
        "        \"model__n_estimators\": [50, 100],        \n",
        "        \"model__max_depth\": [None, 10],          \n",
        "    },\n",
        "\n",
        "    \"GradientBoostingRegressor\": {\n",
        "        \"model__n_estimators\": [50, 100],\n",
        "        \"model__learning_rate\": [0.1],\n",
        "        \"model__max_depth\": [3, 5],\n",
        "    },\n",
        "}\n"
      ]
    },
    {
      "cell_type": "markdown",
      "metadata": {},
      "source": [
        "Quick GridSearch CV - Regression"
      ]
    },
    {
      "cell_type": "code",
      "execution_count": 8,
      "metadata": {},
      "outputs": [
        {
          "name": "stdout",
          "output_type": "stream",
          "text": [
            "\n",
            "Running GridSearchCV for LinearRegression \n",
            "\n",
            "Fitting 5 folds for each of 1 candidates, totalling 5 fits\n",
            "\n",
            "Running GridSearchCV for RandomForestRegressor \n",
            "\n",
            "Fitting 5 folds for each of 4 candidates, totalling 20 fits\n",
            "\n",
            "Running GridSearchCV for GradientBoostingRegressor \n",
            "\n",
            "Fitting 5 folds for each of 4 candidates, totalling 20 fits\n"
          ]
        }
      ],
      "source": [
        "search = HyperparameterOptimizationSearch(\n",
        "    models=models_quick_search,\n",
        "    params=params_quick_search\n",
        ")\n",
        "\n",
        "search.fit(X_train, y_train, scoring=\"r2\", n_jobs=1, cv=5)"
      ]
    },
    {
      "cell_type": "code",
      "execution_count": 9,
      "metadata": {},
      "outputs": [
        {
          "data": {
            "text/html": [
              "<div>\n",
              "<style scoped>\n",
              "    .dataframe tbody tr th:only-of-type {\n",
              "        vertical-align: middle;\n",
              "    }\n",
              "\n",
              "    .dataframe tbody tr th {\n",
              "        vertical-align: top;\n",
              "    }\n",
              "\n",
              "    .dataframe thead th {\n",
              "        text-align: right;\n",
              "    }\n",
              "</style>\n",
              "<table border=\"1\" class=\"dataframe\">\n",
              "  <thead>\n",
              "    <tr style=\"text-align: right;\">\n",
              "      <th></th>\n",
              "      <th>estimator</th>\n",
              "      <th>min_score</th>\n",
              "      <th>mean_score</th>\n",
              "      <th>max_score</th>\n",
              "      <th>std_score</th>\n",
              "      <th>model__max_depth</th>\n",
              "      <th>model__n_estimators</th>\n",
              "      <th>model__learning_rate</th>\n",
              "    </tr>\n",
              "  </thead>\n",
              "  <tbody>\n",
              "    <tr>\n",
              "      <th>0</th>\n",
              "      <td>LinearRegression</td>\n",
              "      <td>0.732024</td>\n",
              "      <td>0.788529</td>\n",
              "      <td>0.829753</td>\n",
              "      <td>0.034429</td>\n",
              "      <td>NaN</td>\n",
              "      <td>NaN</td>\n",
              "      <td>NaN</td>\n",
              "    </tr>\n",
              "    <tr>\n",
              "      <th>7</th>\n",
              "      <td>GradientBoostingRegressor</td>\n",
              "      <td>0.648785</td>\n",
              "      <td>0.78309</td>\n",
              "      <td>0.831872</td>\n",
              "      <td>0.067885</td>\n",
              "      <td>5</td>\n",
              "      <td>50</td>\n",
              "      <td>0.1</td>\n",
              "    </tr>\n",
              "    <tr>\n",
              "      <th>5</th>\n",
              "      <td>GradientBoostingRegressor</td>\n",
              "      <td>0.656227</td>\n",
              "      <td>0.779601</td>\n",
              "      <td>0.831401</td>\n",
              "      <td>0.063054</td>\n",
              "      <td>3</td>\n",
              "      <td>50</td>\n",
              "      <td>0.1</td>\n",
              "    </tr>\n",
              "    <tr>\n",
              "      <th>8</th>\n",
              "      <td>GradientBoostingRegressor</td>\n",
              "      <td>0.633948</td>\n",
              "      <td>0.774614</td>\n",
              "      <td>0.819945</td>\n",
              "      <td>0.070775</td>\n",
              "      <td>5</td>\n",
              "      <td>100</td>\n",
              "      <td>0.1</td>\n",
              "    </tr>\n",
              "    <tr>\n",
              "      <th>6</th>\n",
              "      <td>GradientBoostingRegressor</td>\n",
              "      <td>0.624589</td>\n",
              "      <td>0.76683</td>\n",
              "      <td>0.820709</td>\n",
              "      <td>0.07241</td>\n",
              "      <td>3</td>\n",
              "      <td>100</td>\n",
              "      <td>0.1</td>\n",
              "    </tr>\n",
              "    <tr>\n",
              "      <th>4</th>\n",
              "      <td>RandomForestRegressor</td>\n",
              "      <td>0.702972</td>\n",
              "      <td>0.756645</td>\n",
              "      <td>0.82262</td>\n",
              "      <td>0.047703</td>\n",
              "      <td>10</td>\n",
              "      <td>100</td>\n",
              "      <td>NaN</td>\n",
              "    </tr>\n",
              "    <tr>\n",
              "      <th>3</th>\n",
              "      <td>RandomForestRegressor</td>\n",
              "      <td>0.706348</td>\n",
              "      <td>0.751655</td>\n",
              "      <td>0.820981</td>\n",
              "      <td>0.048758</td>\n",
              "      <td>10</td>\n",
              "      <td>50</td>\n",
              "      <td>NaN</td>\n",
              "    </tr>\n",
              "    <tr>\n",
              "      <th>2</th>\n",
              "      <td>RandomForestRegressor</td>\n",
              "      <td>0.673179</td>\n",
              "      <td>0.744514</td>\n",
              "      <td>0.816369</td>\n",
              "      <td>0.05427</td>\n",
              "      <td>None</td>\n",
              "      <td>100</td>\n",
              "      <td>NaN</td>\n",
              "    </tr>\n",
              "    <tr>\n",
              "      <th>1</th>\n",
              "      <td>RandomForestRegressor</td>\n",
              "      <td>0.676389</td>\n",
              "      <td>0.7399</td>\n",
              "      <td>0.817066</td>\n",
              "      <td>0.055818</td>\n",
              "      <td>None</td>\n",
              "      <td>50</td>\n",
              "      <td>NaN</td>\n",
              "    </tr>\n",
              "  </tbody>\n",
              "</table>\n",
              "</div>"
            ],
            "text/plain": [
              "                   estimator min_score mean_score max_score std_score  \\\n",
              "0           LinearRegression  0.732024   0.788529  0.829753  0.034429   \n",
              "7  GradientBoostingRegressor  0.648785    0.78309  0.831872  0.067885   \n",
              "5  GradientBoostingRegressor  0.656227   0.779601  0.831401  0.063054   \n",
              "8  GradientBoostingRegressor  0.633948   0.774614  0.819945  0.070775   \n",
              "6  GradientBoostingRegressor  0.624589    0.76683  0.820709   0.07241   \n",
              "4      RandomForestRegressor  0.702972   0.756645   0.82262  0.047703   \n",
              "3      RandomForestRegressor  0.706348   0.751655  0.820981  0.048758   \n",
              "2      RandomForestRegressor  0.673179   0.744514  0.816369   0.05427   \n",
              "1      RandomForestRegressor  0.676389     0.7399  0.817066  0.055818   \n",
              "\n",
              "  model__max_depth model__n_estimators model__learning_rate  \n",
              "0              NaN                 NaN                  NaN  \n",
              "7                5                  50                  0.1  \n",
              "5                3                  50                  0.1  \n",
              "8                5                 100                  0.1  \n",
              "6                3                 100                  0.1  \n",
              "4               10                 100                  NaN  \n",
              "3               10                  50                  NaN  \n",
              "2             None                 100                  NaN  \n",
              "1             None                  50                  NaN  "
            ]
          },
          "execution_count": 9,
          "metadata": {},
          "output_type": "execute_result"
        }
      ],
      "source": [
        "grid_search_summary, grid_search_pipelines = search.score_summary(sort_by=\"mean_score\")\n",
        "grid_search_summary"
      ]
    },
    {
      "cell_type": "markdown",
      "metadata": {},
      "source": [
        "### Retrain Best Estimator (GradientBoostingRegressor) with Selected Parameters"
      ]
    },
    {
      "cell_type": "code",
      "execution_count": 11,
      "metadata": {},
      "outputs": [
        {
          "data": {
            "text/plain": [
              "['outputs/ml_pipeline/predict_sale_price/v1/best_regressor_pipeline.pkl']"
            ]
          },
          "execution_count": 11,
          "metadata": {},
          "output_type": "execute_result"
        }
      ],
      "source": [
        "# Retrain the best estimator using the selected parameters for GradientBoostingRegressor\n",
        "\n",
        "from sklearn.ensemble import GradientBoostingRegressor\n",
        "from sklearn.pipeline import Pipeline\n",
        "from sklearn.preprocessing import StandardScaler\n",
        "import joblib\n",
        "import os\n",
        "\n",
        "# Define the model with the best parameters from GridSearchCV\n",
        "best_model = GradientBoostingRegressor(\n",
        "    learning_rate=0.1,\n",
        "    max_depth=5,\n",
        "    min_samples_leaf=1,\n",
        "    min_samples_split=2,\n",
        "    n_estimators=50,\n",
        "    random_state=0\n",
        ")\n",
        "\n",
        "# Build the final pipeline (scaling + model)\n",
        "best_regressor_pipeline = Pipeline([\n",
        "    (\"scaler\", StandardScaler()),\n",
        "    (\"model\", best_model),\n",
        "])\n",
        "\n",
        "# Fit the pipeline on the full training data\n",
        "best_regressor_pipeline.fit(X_train, y_train)\n",
        "\n",
        "# Make sure the output directory exists\n",
        "version = \"v1\"\n",
        "file_path = f\"outputs/ml_pipeline/predict_sale_price/{version}\"\n",
        "os.makedirs(file_path, exist_ok=True)\n",
        "\n",
        "# Save the trained pipeline for later use\n",
        "joblib.dump(best_regressor_pipeline, f\"{file_path}/best_regressor_pipeline.pkl\")\n",
        "\n"
      ]
    },
    {
      "cell_type": "markdown",
      "metadata": {},
      "source": [
        "#### Do an extensive search on the most suitable algorithm, ie GradientBoosterRegressor, to find the best hyperparameter configuration."
      ]
    },
    {
      "cell_type": "code",
      "execution_count": 12,
      "metadata": {},
      "outputs": [],
      "source": [
        "models_search = {\n",
        "    \"ExtraTreesRegressor\": ExtraTreesRegressor(random_state=0),\n",
        "}\n",
        "\n",
        "params_search = {\n",
        "    \"ExtraTreesRegressor\": {\n",
        "        \"model__n_estimators\": [50, 100, 150],\n",
        "        \"model__max_depth\": [None, 3, 15],\n",
        "        \"model__min_samples_split\": [2, 50],\n",
        "        \"model__min_samples_leaf\": [1, 50],\n",
        "    },\n",
        "}"
      ]
    },
    {
      "cell_type": "markdown",
      "metadata": {},
      "source": [
        "Extensive GridSearch CV - Regression"
      ]
    },
    {
      "cell_type": "code",
      "execution_count": 13,
      "metadata": {},
      "outputs": [
        {
          "name": "stdout",
          "output_type": "stream",
          "text": [
            "\n",
            "Running GridSearchCV for ExtraTreesRegressor \n",
            "\n",
            "Fitting 5 folds for each of 36 candidates, totalling 180 fits\n"
          ]
        }
      ],
      "source": [
        "search = HyperparameterOptimizationSearch(models=models_search, params=params_search)\n",
        "search.fit(X_train, y_train, scoring=\"r2\", n_jobs=-1, cv=5)"
      ]
    },
    {
      "cell_type": "markdown",
      "metadata": {},
      "source": [
        "Check results"
      ]
    },
    {
      "cell_type": "code",
      "execution_count": 14,
      "metadata": {},
      "outputs": [
        {
          "data": {
            "text/html": [
              "<div>\n",
              "<style scoped>\n",
              "    .dataframe tbody tr th:only-of-type {\n",
              "        vertical-align: middle;\n",
              "    }\n",
              "\n",
              "    .dataframe tbody tr th {\n",
              "        vertical-align: top;\n",
              "    }\n",
              "\n",
              "    .dataframe thead th {\n",
              "        text-align: right;\n",
              "    }\n",
              "</style>\n",
              "<table border=\"1\" class=\"dataframe\">\n",
              "  <thead>\n",
              "    <tr style=\"text-align: right;\">\n",
              "      <th></th>\n",
              "      <th>estimator</th>\n",
              "      <th>min_score</th>\n",
              "      <th>mean_score</th>\n",
              "      <th>max_score</th>\n",
              "      <th>std_score</th>\n",
              "      <th>model__max_depth</th>\n",
              "      <th>model__min_samples_leaf</th>\n",
              "      <th>model__min_samples_split</th>\n",
              "      <th>model__n_estimators</th>\n",
              "    </tr>\n",
              "  </thead>\n",
              "  <tbody>\n",
              "    <tr>\n",
              "      <th>26</th>\n",
              "      <td>ExtraTreesRegressor</td>\n",
              "      <td>0.706523</td>\n",
              "      <td>0.82276</td>\n",
              "      <td>0.877453</td>\n",
              "      <td>0.061469</td>\n",
              "      <td>15</td>\n",
              "      <td>1</td>\n",
              "      <td>2</td>\n",
              "      <td>150</td>\n",
              "    </tr>\n",
              "    <tr>\n",
              "      <th>1</th>\n",
              "      <td>ExtraTreesRegressor</td>\n",
              "      <td>0.712474</td>\n",
              "      <td>0.820925</td>\n",
              "      <td>0.871529</td>\n",
              "      <td>0.058357</td>\n",
              "      <td>None</td>\n",
              "      <td>1</td>\n",
              "      <td>2</td>\n",
              "      <td>100</td>\n",
              "    </tr>\n",
              "    <tr>\n",
              "      <th>25</th>\n",
              "      <td>ExtraTreesRegressor</td>\n",
              "      <td>0.700125</td>\n",
              "      <td>0.820688</td>\n",
              "      <td>0.878437</td>\n",
              "      <td>0.063591</td>\n",
              "      <td>15</td>\n",
              "      <td>1</td>\n",
              "      <td>2</td>\n",
              "      <td>100</td>\n",
              "    </tr>\n",
              "    <tr>\n",
              "      <th>2</th>\n",
              "      <td>ExtraTreesRegressor</td>\n",
              "      <td>0.710257</td>\n",
              "      <td>0.820063</td>\n",
              "      <td>0.869849</td>\n",
              "      <td>0.058765</td>\n",
              "      <td>None</td>\n",
              "      <td>1</td>\n",
              "      <td>2</td>\n",
              "      <td>150</td>\n",
              "    </tr>\n",
              "    <tr>\n",
              "      <th>0</th>\n",
              "      <td>ExtraTreesRegressor</td>\n",
              "      <td>0.710842</td>\n",
              "      <td>0.81932</td>\n",
              "      <td>0.871588</td>\n",
              "      <td>0.058223</td>\n",
              "      <td>None</td>\n",
              "      <td>1</td>\n",
              "      <td>2</td>\n",
              "      <td>50</td>\n",
              "    </tr>\n",
              "    <tr>\n",
              "      <th>24</th>\n",
              "      <td>ExtraTreesRegressor</td>\n",
              "      <td>0.691983</td>\n",
              "      <td>0.817522</td>\n",
              "      <td>0.872828</td>\n",
              "      <td>0.064962</td>\n",
              "      <td>15</td>\n",
              "      <td>1</td>\n",
              "      <td>2</td>\n",
              "      <td>50</td>\n",
              "    </tr>\n",
              "    <tr>\n",
              "      <th>4</th>\n",
              "      <td>ExtraTreesRegressor</td>\n",
              "      <td>0.760802</td>\n",
              "      <td>0.816541</td>\n",
              "      <td>0.858713</td>\n",
              "      <td>0.042</td>\n",
              "      <td>None</td>\n",
              "      <td>1</td>\n",
              "      <td>50</td>\n",
              "      <td>100</td>\n",
              "    </tr>\n",
              "    <tr>\n",
              "      <th>28</th>\n",
              "      <td>ExtraTreesRegressor</td>\n",
              "      <td>0.760085</td>\n",
              "      <td>0.816396</td>\n",
              "      <td>0.858713</td>\n",
              "      <td>0.042192</td>\n",
              "      <td>15</td>\n",
              "      <td>1</td>\n",
              "      <td>50</td>\n",
              "      <td>100</td>\n",
              "    </tr>\n",
              "    <tr>\n",
              "      <th>5</th>\n",
              "      <td>ExtraTreesRegressor</td>\n",
              "      <td>0.759507</td>\n",
              "      <td>0.816066</td>\n",
              "      <td>0.859057</td>\n",
              "      <td>0.04251</td>\n",
              "      <td>None</td>\n",
              "      <td>1</td>\n",
              "      <td>50</td>\n",
              "      <td>150</td>\n",
              "    </tr>\n",
              "    <tr>\n",
              "      <th>29</th>\n",
              "      <td>ExtraTreesRegressor</td>\n",
              "      <td>0.759008</td>\n",
              "      <td>0.815982</td>\n",
              "      <td>0.859057</td>\n",
              "      <td>0.042627</td>\n",
              "      <td>15</td>\n",
              "      <td>1</td>\n",
              "      <td>50</td>\n",
              "      <td>150</td>\n",
              "    </tr>\n",
              "    <tr>\n",
              "      <th>3</th>\n",
              "      <td>ExtraTreesRegressor</td>\n",
              "      <td>0.761203</td>\n",
              "      <td>0.815224</td>\n",
              "      <td>0.857949</td>\n",
              "      <td>0.042618</td>\n",
              "      <td>None</td>\n",
              "      <td>1</td>\n",
              "      <td>50</td>\n",
              "      <td>50</td>\n",
              "    </tr>\n",
              "    <tr>\n",
              "      <th>27</th>\n",
              "      <td>ExtraTreesRegressor</td>\n",
              "      <td>0.760395</td>\n",
              "      <td>0.815065</td>\n",
              "      <td>0.857949</td>\n",
              "      <td>0.042821</td>\n",
              "      <td>15</td>\n",
              "      <td>1</td>\n",
              "      <td>50</td>\n",
              "      <td>50</td>\n",
              "    </tr>\n",
              "    <tr>\n",
              "      <th>15</th>\n",
              "      <td>ExtraTreesRegressor</td>\n",
              "      <td>0.706345</td>\n",
              "      <td>0.758785</td>\n",
              "      <td>0.796154</td>\n",
              "      <td>0.038379</td>\n",
              "      <td>3</td>\n",
              "      <td>1</td>\n",
              "      <td>50</td>\n",
              "      <td>50</td>\n",
              "    </tr>\n",
              "    <tr>\n",
              "      <th>12</th>\n",
              "      <td>ExtraTreesRegressor</td>\n",
              "      <td>0.707822</td>\n",
              "      <td>0.758257</td>\n",
              "      <td>0.80003</td>\n",
              "      <td>0.041401</td>\n",
              "      <td>3</td>\n",
              "      <td>1</td>\n",
              "      <td>2</td>\n",
              "      <td>50</td>\n",
              "    </tr>\n",
              "    <tr>\n",
              "      <th>17</th>\n",
              "      <td>ExtraTreesRegressor</td>\n",
              "      <td>0.705614</td>\n",
              "      <td>0.758015</td>\n",
              "      <td>0.794689</td>\n",
              "      <td>0.038411</td>\n",
              "      <td>3</td>\n",
              "      <td>1</td>\n",
              "      <td>50</td>\n",
              "      <td>150</td>\n",
              "    </tr>\n",
              "    <tr>\n",
              "      <th>16</th>\n",
              "      <td>ExtraTreesRegressor</td>\n",
              "      <td>0.708716</td>\n",
              "      <td>0.757601</td>\n",
              "      <td>0.79192</td>\n",
              "      <td>0.037399</td>\n",
              "      <td>3</td>\n",
              "      <td>1</td>\n",
              "      <td>50</td>\n",
              "      <td>100</td>\n",
              "    </tr>\n",
              "    <tr>\n",
              "      <th>14</th>\n",
              "      <td>ExtraTreesRegressor</td>\n",
              "      <td>0.703971</td>\n",
              "      <td>0.757371</td>\n",
              "      <td>0.795257</td>\n",
              "      <td>0.039517</td>\n",
              "      <td>3</td>\n",
              "      <td>1</td>\n",
              "      <td>2</td>\n",
              "      <td>150</td>\n",
              "    </tr>\n",
              "    <tr>\n",
              "      <th>13</th>\n",
              "      <td>ExtraTreesRegressor</td>\n",
              "      <td>0.704899</td>\n",
              "      <td>0.757361</td>\n",
              "      <td>0.793856</td>\n",
              "      <td>0.038365</td>\n",
              "      <td>3</td>\n",
              "      <td>1</td>\n",
              "      <td>2</td>\n",
              "      <td>100</td>\n",
              "    </tr>\n",
              "    <tr>\n",
              "      <th>10</th>\n",
              "      <td>ExtraTreesRegressor</td>\n",
              "      <td>0.664253</td>\n",
              "      <td>0.736097</td>\n",
              "      <td>0.79464</td>\n",
              "      <td>0.049418</td>\n",
              "      <td>None</td>\n",
              "      <td>50</td>\n",
              "      <td>50</td>\n",
              "      <td>100</td>\n",
              "    </tr>\n",
              "    <tr>\n",
              "      <th>31</th>\n",
              "      <td>ExtraTreesRegressor</td>\n",
              "      <td>0.664253</td>\n",
              "      <td>0.736097</td>\n",
              "      <td>0.79464</td>\n",
              "      <td>0.049418</td>\n",
              "      <td>15</td>\n",
              "      <td>50</td>\n",
              "      <td>2</td>\n",
              "      <td>100</td>\n",
              "    </tr>\n",
              "    <tr>\n",
              "      <th>34</th>\n",
              "      <td>ExtraTreesRegressor</td>\n",
              "      <td>0.664253</td>\n",
              "      <td>0.736097</td>\n",
              "      <td>0.79464</td>\n",
              "      <td>0.049418</td>\n",
              "      <td>15</td>\n",
              "      <td>50</td>\n",
              "      <td>50</td>\n",
              "      <td>100</td>\n",
              "    </tr>\n",
              "    <tr>\n",
              "      <th>7</th>\n",
              "      <td>ExtraTreesRegressor</td>\n",
              "      <td>0.664253</td>\n",
              "      <td>0.736097</td>\n",
              "      <td>0.79464</td>\n",
              "      <td>0.049418</td>\n",
              "      <td>None</td>\n",
              "      <td>50</td>\n",
              "      <td>2</td>\n",
              "      <td>100</td>\n",
              "    </tr>\n",
              "    <tr>\n",
              "      <th>32</th>\n",
              "      <td>ExtraTreesRegressor</td>\n",
              "      <td>0.6631</td>\n",
              "      <td>0.735597</td>\n",
              "      <td>0.792424</td>\n",
              "      <td>0.049144</td>\n",
              "      <td>15</td>\n",
              "      <td>50</td>\n",
              "      <td>2</td>\n",
              "      <td>150</td>\n",
              "    </tr>\n",
              "    <tr>\n",
              "      <th>35</th>\n",
              "      <td>ExtraTreesRegressor</td>\n",
              "      <td>0.6631</td>\n",
              "      <td>0.735597</td>\n",
              "      <td>0.792424</td>\n",
              "      <td>0.049144</td>\n",
              "      <td>15</td>\n",
              "      <td>50</td>\n",
              "      <td>50</td>\n",
              "      <td>150</td>\n",
              "    </tr>\n",
              "    <tr>\n",
              "      <th>11</th>\n",
              "      <td>ExtraTreesRegressor</td>\n",
              "      <td>0.6631</td>\n",
              "      <td>0.735597</td>\n",
              "      <td>0.792424</td>\n",
              "      <td>0.049144</td>\n",
              "      <td>None</td>\n",
              "      <td>50</td>\n",
              "      <td>50</td>\n",
              "      <td>150</td>\n",
              "    </tr>\n",
              "    <tr>\n",
              "      <th>8</th>\n",
              "      <td>ExtraTreesRegressor</td>\n",
              "      <td>0.6631</td>\n",
              "      <td>0.735597</td>\n",
              "      <td>0.792424</td>\n",
              "      <td>0.049144</td>\n",
              "      <td>None</td>\n",
              "      <td>50</td>\n",
              "      <td>2</td>\n",
              "      <td>150</td>\n",
              "    </tr>\n",
              "    <tr>\n",
              "      <th>30</th>\n",
              "      <td>ExtraTreesRegressor</td>\n",
              "      <td>0.668654</td>\n",
              "      <td>0.733679</td>\n",
              "      <td>0.794243</td>\n",
              "      <td>0.046989</td>\n",
              "      <td>15</td>\n",
              "      <td>50</td>\n",
              "      <td>2</td>\n",
              "      <td>50</td>\n",
              "    </tr>\n",
              "    <tr>\n",
              "      <th>9</th>\n",
              "      <td>ExtraTreesRegressor</td>\n",
              "      <td>0.668654</td>\n",
              "      <td>0.733679</td>\n",
              "      <td>0.794243</td>\n",
              "      <td>0.046989</td>\n",
              "      <td>None</td>\n",
              "      <td>50</td>\n",
              "      <td>50</td>\n",
              "      <td>50</td>\n",
              "    </tr>\n",
              "    <tr>\n",
              "      <th>33</th>\n",
              "      <td>ExtraTreesRegressor</td>\n",
              "      <td>0.668654</td>\n",
              "      <td>0.733679</td>\n",
              "      <td>0.794243</td>\n",
              "      <td>0.046989</td>\n",
              "      <td>15</td>\n",
              "      <td>50</td>\n",
              "      <td>50</td>\n",
              "      <td>50</td>\n",
              "    </tr>\n",
              "    <tr>\n",
              "      <th>6</th>\n",
              "      <td>ExtraTreesRegressor</td>\n",
              "      <td>0.668654</td>\n",
              "      <td>0.733679</td>\n",
              "      <td>0.794243</td>\n",
              "      <td>0.046989</td>\n",
              "      <td>None</td>\n",
              "      <td>50</td>\n",
              "      <td>2</td>\n",
              "      <td>50</td>\n",
              "    </tr>\n",
              "    <tr>\n",
              "      <th>23</th>\n",
              "      <td>ExtraTreesRegressor</td>\n",
              "      <td>0.634639</td>\n",
              "      <td>0.710767</td>\n",
              "      <td>0.766062</td>\n",
              "      <td>0.048786</td>\n",
              "      <td>3</td>\n",
              "      <td>50</td>\n",
              "      <td>50</td>\n",
              "      <td>150</td>\n",
              "    </tr>\n",
              "    <tr>\n",
              "      <th>20</th>\n",
              "      <td>ExtraTreesRegressor</td>\n",
              "      <td>0.634639</td>\n",
              "      <td>0.710767</td>\n",
              "      <td>0.766062</td>\n",
              "      <td>0.048786</td>\n",
              "      <td>3</td>\n",
              "      <td>50</td>\n",
              "      <td>2</td>\n",
              "      <td>150</td>\n",
              "    </tr>\n",
              "    <tr>\n",
              "      <th>22</th>\n",
              "      <td>ExtraTreesRegressor</td>\n",
              "      <td>0.639183</td>\n",
              "      <td>0.710328</td>\n",
              "      <td>0.767769</td>\n",
              "      <td>0.047213</td>\n",
              "      <td>3</td>\n",
              "      <td>50</td>\n",
              "      <td>50</td>\n",
              "      <td>100</td>\n",
              "    </tr>\n",
              "    <tr>\n",
              "      <th>19</th>\n",
              "      <td>ExtraTreesRegressor</td>\n",
              "      <td>0.639183</td>\n",
              "      <td>0.710328</td>\n",
              "      <td>0.767769</td>\n",
              "      <td>0.047213</td>\n",
              "      <td>3</td>\n",
              "      <td>50</td>\n",
              "      <td>2</td>\n",
              "      <td>100</td>\n",
              "    </tr>\n",
              "    <tr>\n",
              "      <th>21</th>\n",
              "      <td>ExtraTreesRegressor</td>\n",
              "      <td>0.633091</td>\n",
              "      <td>0.706026</td>\n",
              "      <td>0.76016</td>\n",
              "      <td>0.047191</td>\n",
              "      <td>3</td>\n",
              "      <td>50</td>\n",
              "      <td>50</td>\n",
              "      <td>50</td>\n",
              "    </tr>\n",
              "    <tr>\n",
              "      <th>18</th>\n",
              "      <td>ExtraTreesRegressor</td>\n",
              "      <td>0.633091</td>\n",
              "      <td>0.706026</td>\n",
              "      <td>0.76016</td>\n",
              "      <td>0.047191</td>\n",
              "      <td>3</td>\n",
              "      <td>50</td>\n",
              "      <td>2</td>\n",
              "      <td>50</td>\n",
              "    </tr>\n",
              "  </tbody>\n",
              "</table>\n",
              "</div>"
            ],
            "text/plain": [
              "              estimator min_score mean_score max_score std_score  \\\n",
              "26  ExtraTreesRegressor  0.706523    0.82276  0.877453  0.061469   \n",
              "1   ExtraTreesRegressor  0.712474   0.820925  0.871529  0.058357   \n",
              "25  ExtraTreesRegressor  0.700125   0.820688  0.878437  0.063591   \n",
              "2   ExtraTreesRegressor  0.710257   0.820063  0.869849  0.058765   \n",
              "0   ExtraTreesRegressor  0.710842    0.81932  0.871588  0.058223   \n",
              "24  ExtraTreesRegressor  0.691983   0.817522  0.872828  0.064962   \n",
              "4   ExtraTreesRegressor  0.760802   0.816541  0.858713     0.042   \n",
              "28  ExtraTreesRegressor  0.760085   0.816396  0.858713  0.042192   \n",
              "5   ExtraTreesRegressor  0.759507   0.816066  0.859057   0.04251   \n",
              "29  ExtraTreesRegressor  0.759008   0.815982  0.859057  0.042627   \n",
              "3   ExtraTreesRegressor  0.761203   0.815224  0.857949  0.042618   \n",
              "27  ExtraTreesRegressor  0.760395   0.815065  0.857949  0.042821   \n",
              "15  ExtraTreesRegressor  0.706345   0.758785  0.796154  0.038379   \n",
              "12  ExtraTreesRegressor  0.707822   0.758257   0.80003  0.041401   \n",
              "17  ExtraTreesRegressor  0.705614   0.758015  0.794689  0.038411   \n",
              "16  ExtraTreesRegressor  0.708716   0.757601   0.79192  0.037399   \n",
              "14  ExtraTreesRegressor  0.703971   0.757371  0.795257  0.039517   \n",
              "13  ExtraTreesRegressor  0.704899   0.757361  0.793856  0.038365   \n",
              "10  ExtraTreesRegressor  0.664253   0.736097   0.79464  0.049418   \n",
              "31  ExtraTreesRegressor  0.664253   0.736097   0.79464  0.049418   \n",
              "34  ExtraTreesRegressor  0.664253   0.736097   0.79464  0.049418   \n",
              "7   ExtraTreesRegressor  0.664253   0.736097   0.79464  0.049418   \n",
              "32  ExtraTreesRegressor    0.6631   0.735597  0.792424  0.049144   \n",
              "35  ExtraTreesRegressor    0.6631   0.735597  0.792424  0.049144   \n",
              "11  ExtraTreesRegressor    0.6631   0.735597  0.792424  0.049144   \n",
              "8   ExtraTreesRegressor    0.6631   0.735597  0.792424  0.049144   \n",
              "30  ExtraTreesRegressor  0.668654   0.733679  0.794243  0.046989   \n",
              "9   ExtraTreesRegressor  0.668654   0.733679  0.794243  0.046989   \n",
              "33  ExtraTreesRegressor  0.668654   0.733679  0.794243  0.046989   \n",
              "6   ExtraTreesRegressor  0.668654   0.733679  0.794243  0.046989   \n",
              "23  ExtraTreesRegressor  0.634639   0.710767  0.766062  0.048786   \n",
              "20  ExtraTreesRegressor  0.634639   0.710767  0.766062  0.048786   \n",
              "22  ExtraTreesRegressor  0.639183   0.710328  0.767769  0.047213   \n",
              "19  ExtraTreesRegressor  0.639183   0.710328  0.767769  0.047213   \n",
              "21  ExtraTreesRegressor  0.633091   0.706026   0.76016  0.047191   \n",
              "18  ExtraTreesRegressor  0.633091   0.706026   0.76016  0.047191   \n",
              "\n",
              "   model__max_depth model__min_samples_leaf model__min_samples_split  \\\n",
              "26               15                       1                        2   \n",
              "1              None                       1                        2   \n",
              "25               15                       1                        2   \n",
              "2              None                       1                        2   \n",
              "0              None                       1                        2   \n",
              "24               15                       1                        2   \n",
              "4              None                       1                       50   \n",
              "28               15                       1                       50   \n",
              "5              None                       1                       50   \n",
              "29               15                       1                       50   \n",
              "3              None                       1                       50   \n",
              "27               15                       1                       50   \n",
              "15                3                       1                       50   \n",
              "12                3                       1                        2   \n",
              "17                3                       1                       50   \n",
              "16                3                       1                       50   \n",
              "14                3                       1                        2   \n",
              "13                3                       1                        2   \n",
              "10             None                      50                       50   \n",
              "31               15                      50                        2   \n",
              "34               15                      50                       50   \n",
              "7              None                      50                        2   \n",
              "32               15                      50                        2   \n",
              "35               15                      50                       50   \n",
              "11             None                      50                       50   \n",
              "8              None                      50                        2   \n",
              "30               15                      50                        2   \n",
              "9              None                      50                       50   \n",
              "33               15                      50                       50   \n",
              "6              None                      50                        2   \n",
              "23                3                      50                       50   \n",
              "20                3                      50                        2   \n",
              "22                3                      50                       50   \n",
              "19                3                      50                        2   \n",
              "21                3                      50                       50   \n",
              "18                3                      50                        2   \n",
              "\n",
              "   model__n_estimators  \n",
              "26                 150  \n",
              "1                  100  \n",
              "25                 100  \n",
              "2                  150  \n",
              "0                   50  \n",
              "24                  50  \n",
              "4                  100  \n",
              "28                 100  \n",
              "5                  150  \n",
              "29                 150  \n",
              "3                   50  \n",
              "27                  50  \n",
              "15                  50  \n",
              "12                  50  \n",
              "17                 150  \n",
              "16                 100  \n",
              "14                 150  \n",
              "13                 100  \n",
              "10                 100  \n",
              "31                 100  \n",
              "34                 100  \n",
              "7                  100  \n",
              "32                 150  \n",
              "35                 150  \n",
              "11                 150  \n",
              "8                  150  \n",
              "30                  50  \n",
              "9                   50  \n",
              "33                  50  \n",
              "6                   50  \n",
              "23                 150  \n",
              "20                 150  \n",
              "22                 100  \n",
              "19                 100  \n",
              "21                  50  \n",
              "18                  50  "
            ]
          },
          "execution_count": 14,
          "metadata": {},
          "output_type": "execute_result"
        }
      ],
      "source": [
        "grid_search_summary, grid_search_pipelines = search.score_summary(sort_by=\"mean_score\")\n",
        "grid_search_summary"
      ]
    },
    {
      "cell_type": "code",
      "execution_count": 15,
      "metadata": {},
      "outputs": [
        {
          "name": "stdout",
          "output_type": "stream",
          "text": [
            "Model trained and saved at: outputs/ml_pipeline/predict_sale_price/v2\n"
          ]
        }
      ],
      "source": [
        "# Retrain the best ExtraTreesRegressor model based on the best GridSearchCV parameters\n",
        "\n",
        "from sklearn.ensemble import ExtraTreesRegressor\n",
        "from sklearn.pipeline import Pipeline\n",
        "from sklearn.preprocessing import StandardScaler\n",
        "import joblib\n",
        "import os\n",
        "\n",
        "# Set version and save path\n",
        "version = \"v2\"  # \n",
        "file_path = f\"outputs/ml_pipeline/predict_sale_price/{version}\"\n",
        "os.makedirs(file_path, exist_ok=True)\n",
        "\n",
        "# Define the best model\n",
        "best_model = ExtraTreesRegressor(\n",
        "    n_estimators=150,\n",
        "    max_depth=15,\n",
        "    min_samples_leaf=1,\n",
        "    min_samples_split=2,\n",
        "    random_state=0,\n",
        ")\n",
        "\n",
        "# Build the final pipeline\n",
        "best_regressor_pipeline = Pipeline([\n",
        "    (\"scaler\", StandardScaler()),\n",
        "    (\"model\", best_model),\n",
        "])\n",
        "\n",
        "# Fit the pipeline\n",
        "best_regressor_pipeline.fit(X_train, y_train)\n",
        "\n",
        "# Save pipeline\n",
        "joblib.dump(best_regressor_pipeline, f\"{file_path}/best_regressor_pipeline.pkl\")\n",
        "\n",
        "print(f\"Model trained and saved at: {file_path}\")\n"
      ]
    },
    {
      "cell_type": "markdown",
      "metadata": {},
      "source": [
        "Get best model name programmatically"
      ]
    },
    {
      "cell_type": "code",
      "execution_count": 16,
      "metadata": {},
      "outputs": [
        {
          "data": {
            "text/plain": [
              "'ExtraTreesRegressor'"
            ]
          },
          "execution_count": 16,
          "metadata": {},
          "output_type": "execute_result"
        }
      ],
      "source": [
        "best_model = grid_search_summary.iloc[0, 0]\n",
        "best_model"
      ]
    },
    {
      "cell_type": "markdown",
      "metadata": {},
      "source": [
        "Parameters for best model"
      ]
    },
    {
      "cell_type": "code",
      "execution_count": 17,
      "metadata": {},
      "outputs": [
        {
          "data": {
            "text/plain": [
              "{'model__max_depth': 15,\n",
              " 'model__min_samples_leaf': 1,\n",
              " 'model__min_samples_split': 2,\n",
              " 'model__n_estimators': 150}"
            ]
          },
          "execution_count": 17,
          "metadata": {},
          "output_type": "execute_result"
        }
      ],
      "source": [
        "best_parameters = grid_search_pipelines[best_model].best_params_\n",
        "best_parameters"
      ]
    },
    {
      "cell_type": "markdown",
      "metadata": {},
      "source": [
        "## Assess Feature Importance"
      ]
    },
    {
      "cell_type": "code",
      "execution_count": 18,
      "metadata": {},
      "outputs": [
        {
          "data": {
            "text/html": [
              "<div>\n",
              "<style scoped>\n",
              "    .dataframe tbody tr th:only-of-type {\n",
              "        vertical-align: middle;\n",
              "    }\n",
              "\n",
              "    .dataframe tbody tr th {\n",
              "        vertical-align: top;\n",
              "    }\n",
              "\n",
              "    .dataframe thead th {\n",
              "        text-align: right;\n",
              "    }\n",
              "</style>\n",
              "<table border=\"1\" class=\"dataframe\">\n",
              "  <thead>\n",
              "    <tr style=\"text-align: right;\">\n",
              "      <th></th>\n",
              "      <th>1stFlrSF</th>\n",
              "      <th>2ndFlrSF</th>\n",
              "      <th>BedroomAbvGr</th>\n",
              "      <th>BsmtExposure</th>\n",
              "      <th>BsmtFinSF1</th>\n",
              "      <th>BsmtFinType1</th>\n",
              "      <th>BsmtUnfSF</th>\n",
              "      <th>GarageArea</th>\n",
              "      <th>GarageFinish</th>\n",
              "      <th>GarageYrBlt</th>\n",
              "      <th>...</th>\n",
              "      <th>KitchenQual</th>\n",
              "      <th>LotArea</th>\n",
              "      <th>LotFrontage</th>\n",
              "      <th>MasVnrArea</th>\n",
              "      <th>OpenPorchSF</th>\n",
              "      <th>OverallCond</th>\n",
              "      <th>OverallQual</th>\n",
              "      <th>TotalBsmtSF</th>\n",
              "      <th>YearBuilt</th>\n",
              "      <th>YearRemodAdd</th>\n",
              "    </tr>\n",
              "  </thead>\n",
              "  <tbody>\n",
              "    <tr>\n",
              "      <th>0</th>\n",
              "      <td>42.755117</td>\n",
              "      <td>0.0</td>\n",
              "      <td>3.0</td>\n",
              "      <td>0</td>\n",
              "      <td>6.928203</td>\n",
              "      <td>0</td>\n",
              "      <td>42.118879</td>\n",
              "      <td>774</td>\n",
              "      <td>0</td>\n",
              "      <td>2007.0</td>\n",
              "      <td>...</td>\n",
              "      <td>0</td>\n",
              "      <td>9.366831</td>\n",
              "      <td>9.486833</td>\n",
              "      <td>21.260292</td>\n",
              "      <td>10.392305</td>\n",
              "      <td>5</td>\n",
              "      <td>9</td>\n",
              "      <td>1822</td>\n",
              "      <td>2007</td>\n",
              "      <td>2007</td>\n",
              "    </tr>\n",
              "    <tr>\n",
              "      <th>1</th>\n",
              "      <td>29.899833</td>\n",
              "      <td>0.0</td>\n",
              "      <td>2.0</td>\n",
              "      <td>1</td>\n",
              "      <td>0.000000</td>\n",
              "      <td>0</td>\n",
              "      <td>29.899833</td>\n",
              "      <td>308</td>\n",
              "      <td>0</td>\n",
              "      <td>1962.0</td>\n",
              "      <td>...</td>\n",
              "      <td>1</td>\n",
              "      <td>8.794825</td>\n",
              "      <td>7.745967</td>\n",
              "      <td>0.000000</td>\n",
              "      <td>0.000000</td>\n",
              "      <td>5</td>\n",
              "      <td>5</td>\n",
              "      <td>894</td>\n",
              "      <td>1962</td>\n",
              "      <td>1962</td>\n",
              "    </tr>\n",
              "    <tr>\n",
              "      <th>2</th>\n",
              "      <td>31.048349</td>\n",
              "      <td>0.0</td>\n",
              "      <td>2.0</td>\n",
              "      <td>1</td>\n",
              "      <td>26.702060</td>\n",
              "      <td>1</td>\n",
              "      <td>12.767145</td>\n",
              "      <td>432</td>\n",
              "      <td>0</td>\n",
              "      <td>1921.0</td>\n",
              "      <td>...</td>\n",
              "      <td>1</td>\n",
              "      <td>9.500020</td>\n",
              "      <td>8.944272</td>\n",
              "      <td>0.000000</td>\n",
              "      <td>0.000000</td>\n",
              "      <td>7</td>\n",
              "      <td>5</td>\n",
              "      <td>876</td>\n",
              "      <td>1921</td>\n",
              "      <td>2006</td>\n",
              "    </tr>\n",
              "  </tbody>\n",
              "</table>\n",
              "<p>3 rows × 21 columns</p>\n",
              "</div>"
            ],
            "text/plain": [
              "    1stFlrSF  2ndFlrSF  BedroomAbvGr  BsmtExposure  BsmtFinSF1  BsmtFinType1  \\\n",
              "0  42.755117       0.0           3.0             0    6.928203             0   \n",
              "1  29.899833       0.0           2.0             1    0.000000             0   \n",
              "2  31.048349       0.0           2.0             1   26.702060             1   \n",
              "\n",
              "   BsmtUnfSF  GarageArea  GarageFinish  GarageYrBlt  ...  KitchenQual  \\\n",
              "0  42.118879         774             0       2007.0  ...            0   \n",
              "1  29.899833         308             0       1962.0  ...            1   \n",
              "2  12.767145         432             0       1921.0  ...            1   \n",
              "\n",
              "    LotArea  LotFrontage  MasVnrArea  OpenPorchSF  OverallCond  OverallQual  \\\n",
              "0  9.366831     9.486833   21.260292    10.392305            5            9   \n",
              "1  8.794825     7.745967    0.000000     0.000000            5            5   \n",
              "2  9.500020     8.944272    0.000000     0.000000            7            5   \n",
              "\n",
              "   TotalBsmtSF  YearBuilt  YearRemodAdd  \n",
              "0         1822       2007          2007  \n",
              "1          894       1962          1962  \n",
              "2          876       1921          2006  \n",
              "\n",
              "[3 rows x 21 columns]"
            ]
          },
          "execution_count": 18,
          "metadata": {},
          "output_type": "execute_result"
        }
      ],
      "source": [
        "X_train.head(3)"
      ]
    },
    {
      "cell_type": "code",
      "execution_count": 20,
      "metadata": {},
      "outputs": [
        {
          "name": "stdout",
          "output_type": "stream",
          "text": [
            "* These are the 21 most important features:\n",
            "['OverallQual', 'GrLivArea', 'YearBuilt', 'GarageArea', 'TotalBsmtSF', '1stFlrSF', 'YearRemodAdd', 'KitchenQual', 'GarageYrBlt', 'BsmtFinSF1', 'LotArea', 'MasVnrArea', '2ndFlrSF', 'GarageFinish', 'OverallCond', 'LotFrontage', 'BedroomAbvGr', 'OpenPorchSF', 'BsmtUnfSF', 'BsmtExposure', 'BsmtFinType1']\n"
          ]
        },
        {
          "data": {
            "image/png": "[encoded data removed]",
            "text/plain": [
              "<Figure size 1200x600 with 1 Axes>"
            ]
          },
          "metadata": {},
          "output_type": "display_data"
        }
      ],
      "source": [
        "import pandas as pd\n",
        "import matplotlib.pyplot as plt\n",
        "\n",
        "# Feature importance for GradientBoosting or other tree-based models\n",
        "df_feature_importance = pd.DataFrame({\n",
        "    \"Feature\": X_train.columns,\n",
        "    \"Importance\": best_regressor_pipeline[\"model\"].feature_importances_\n",
        "}).sort_values(by=\"Importance\", ascending=False)\n",
        "\n",
        "# Print top features\n",
        "best_features = df_feature_importance[\"Feature\"].tolist()\n",
        "print(f\"* These are the {len(best_features)} most important features:\")\n",
        "print(best_features)\n",
        "\n",
        "# Plot\n",
        "df_feature_importance.plot(kind=\"bar\", x=\"Feature\", y=\"Importance\", figsize=(12, 6))\n",
        "plt.title(\"Feature Importance\")\n",
        "plt.tight_layout()\n",
        "plt.show()\n"
      ]
    },
    {
      "cell_type": "markdown",
      "metadata": {},
      "source": [
        "## Evaluate Pipeline on Train and Test Sets"
      ]
    },
    {
      "cell_type": "markdown",
      "metadata": {},
      "source": [
        "Measure how close regression line is to data points with mean and absolute error"
      ]
    },
    {
      "cell_type": "code",
      "execution_count": 21,
      "metadata": {},
      "outputs": [
        {
          "name": "stdout",
          "output_type": "stream",
          "text": [
            "Mean squared error (Train): 1132388.3281790088\n"
          ]
        }
      ],
      "source": [
        "# MSE\n",
        "from sklearn.metrics import mean_squared_error\n",
        "\n",
        "y_pred_train = best_regressor_pipeline.predict(X_train)\n",
        "print(\"Mean squared error (Train):\", mean_squared_error(y_train, y_pred_train))"
      ]
    },
    {
      "cell_type": "code",
      "execution_count": 22,
      "metadata": {},
      "outputs": [
        {
          "name": "stdout",
          "output_type": "stream",
          "text": [
            "Mean absolute error (Train): 675.2692724650389\n"
          ]
        }
      ],
      "source": [
        "# MAE\n",
        "from sklearn.metrics import mean_absolute_error\n",
        "\n",
        "print(\"Mean absolute error (Train):\", mean_absolute_error(y_train, y_pred_train))"
      ]
    },
    {
      "cell_type": "code",
      "execution_count": 23,
      "metadata": {},
      "outputs": [
        {
          "name": "stdout",
          "output_type": "stream",
          "text": [
            "R² score (Train): 0.9998160799658179\n"
          ]
        }
      ],
      "source": [
        "# R²\n",
        "from sklearn.metrics import r2_score\n",
        "\n",
        "print(\"R² score (Train):\", r2_score(y_train, y_pred_train))"
      ]
    },
    {
      "cell_type": "markdown",
      "metadata": {},
      "source": [
        "The R² score of 0.87+ is a very good score and indicates a good fit for our model."
      ]
    },
    {
      "cell_type": "code",
      "execution_count": 24,
      "metadata": {},
      "outputs": [
        {
          "data": {
            "image/png": "[encoded data removed]",
            "text/plain": [
              "<Figure size 600x600 with 1 Axes>"
            ]
          },
          "metadata": {},
          "output_type": "display_data"
        }
      ],
      "source": [
        "import seaborn as sns\n",
        "import matplotlib.pyplot as plt\n",
        "\n",
        "plt.figure(figsize=(6,6))\n",
        "sns.scatterplot(x=y_pred_train, y=y_train, alpha=0.5)\n",
        "plt.xlabel(\"Predicted\")\n",
        "plt.ylabel(\"Actual\")\n",
        "plt.title(\"Predicted vs Actual - Training Set\")\n",
        "plt.plot([y_train.min(), y_train.max()], [y_train.min(), y_train.max()], 'r--')\n",
        "plt.tight_layout()\n",
        "plt.show()"
      ]
    },
    {
      "cell_type": "markdown",
      "metadata": {},
      "source": [
        "## Rewrite Pipeline with the best parameters"
      ]
    },
    {
      "cell_type": "code",
      "execution_count": 25,
      "metadata": {},
      "outputs": [
        {
          "data": {
            "text/plain": [
              "['OverallQual',\n",
              " 'GrLivArea',\n",
              " 'YearBuilt',\n",
              " 'GarageArea',\n",
              " 'TotalBsmtSF',\n",
              " '1stFlrSF',\n",
              " 'YearRemodAdd',\n",
              " 'KitchenQual',\n",
              " 'GarageYrBlt',\n",
              " 'BsmtFinSF1',\n",
              " 'LotArea',\n",
              " 'MasVnrArea',\n",
              " '2ndFlrSF',\n",
              " 'GarageFinish',\n",
              " 'OverallCond',\n",
              " 'LotFrontage',\n",
              " 'BedroomAbvGr',\n",
              " 'OpenPorchSF',\n",
              " 'BsmtUnfSF',\n",
              " 'BsmtExposure',\n",
              " 'BsmtFinType1']"
            ]
          },
          "execution_count": 25,
          "metadata": {},
          "output_type": "execute_result"
        }
      ],
      "source": [
        "best_features"
      ]
    },
    {
      "cell_type": "markdown",
      "metadata": {},
      "source": [
        "ML Pipeline for Modelling and Hyperparameter Optimization"
      ]
    },
    {
      "cell_type": "code",
      "execution_count": 26,
      "metadata": {},
      "outputs": [],
      "source": [
        "def PipelineRgr(model):  # new def PipelineRgr\n",
        "    pipeline_base = Pipeline(\n",
        "        [\n",
        "            (\"scaler\", StandardScaler()),\n",
        "            # (\"feat_selection\", SelectFromModel(model)),\n",
        "            (\"model\", model),\n",
        "        ]\n",
        "    )\n",
        "\n",
        "    return pipeline_base"
      ]
    },
    {
      "cell_type": "markdown",
      "metadata": {},
      "source": [
        "Update Train and Test Sets with best features"
      ]
    },
    {
      "cell_type": "code",
      "execution_count": 27,
      "metadata": {},
      "outputs": [
        {
          "name": "stdout",
          "output_type": "stream",
          "text": [
            "(1168, 21) (1168,) (292, 21) (292,)\n"
          ]
        },
        {
          "data": {
            "text/html": [
              "<div>\n",
              "<style scoped>\n",
              "    .dataframe tbody tr th:only-of-type {\n",
              "        vertical-align: middle;\n",
              "    }\n",
              "\n",
              "    .dataframe tbody tr th {\n",
              "        vertical-align: top;\n",
              "    }\n",
              "\n",
              "    .dataframe thead th {\n",
              "        text-align: right;\n",
              "    }\n",
              "</style>\n",
              "<table border=\"1\" class=\"dataframe\">\n",
              "  <thead>\n",
              "    <tr style=\"text-align: right;\">\n",
              "      <th></th>\n",
              "      <th>OverallQual</th>\n",
              "      <th>GrLivArea</th>\n",
              "      <th>YearBuilt</th>\n",
              "      <th>GarageArea</th>\n",
              "      <th>TotalBsmtSF</th>\n",
              "      <th>1stFlrSF</th>\n",
              "      <th>YearRemodAdd</th>\n",
              "      <th>KitchenQual</th>\n",
              "      <th>GarageYrBlt</th>\n",
              "      <th>BsmtFinSF1</th>\n",
              "      <th>...</th>\n",
              "      <th>MasVnrArea</th>\n",
              "      <th>2ndFlrSF</th>\n",
              "      <th>GarageFinish</th>\n",
              "      <th>OverallCond</th>\n",
              "      <th>LotFrontage</th>\n",
              "      <th>BedroomAbvGr</th>\n",
              "      <th>OpenPorchSF</th>\n",
              "      <th>BsmtUnfSF</th>\n",
              "      <th>BsmtExposure</th>\n",
              "      <th>BsmtFinType1</th>\n",
              "    </tr>\n",
              "  </thead>\n",
              "  <tbody>\n",
              "    <tr>\n",
              "      <th>0</th>\n",
              "      <td>9</td>\n",
              "      <td>7.510978</td>\n",
              "      <td>2007</td>\n",
              "      <td>774</td>\n",
              "      <td>1822</td>\n",
              "      <td>42.755117</td>\n",
              "      <td>2007</td>\n",
              "      <td>0</td>\n",
              "      <td>2007.0</td>\n",
              "      <td>6.928203</td>\n",
              "      <td>...</td>\n",
              "      <td>21.260292</td>\n",
              "      <td>0.0</td>\n",
              "      <td>0</td>\n",
              "      <td>5</td>\n",
              "      <td>9.486833</td>\n",
              "      <td>3.0</td>\n",
              "      <td>10.392305</td>\n",
              "      <td>42.118879</td>\n",
              "      <td>0</td>\n",
              "      <td>0</td>\n",
              "    </tr>\n",
              "    <tr>\n",
              "      <th>1</th>\n",
              "      <td>5</td>\n",
              "      <td>6.795706</td>\n",
              "      <td>1962</td>\n",
              "      <td>308</td>\n",
              "      <td>894</td>\n",
              "      <td>29.899833</td>\n",
              "      <td>1962</td>\n",
              "      <td>1</td>\n",
              "      <td>1962.0</td>\n",
              "      <td>0.000000</td>\n",
              "      <td>...</td>\n",
              "      <td>0.000000</td>\n",
              "      <td>0.0</td>\n",
              "      <td>0</td>\n",
              "      <td>5</td>\n",
              "      <td>7.745967</td>\n",
              "      <td>2.0</td>\n",
              "      <td>0.000000</td>\n",
              "      <td>29.899833</td>\n",
              "      <td>1</td>\n",
              "      <td>0</td>\n",
              "    </tr>\n",
              "    <tr>\n",
              "      <th>2</th>\n",
              "      <td>5</td>\n",
              "      <td>6.871091</td>\n",
              "      <td>1921</td>\n",
              "      <td>432</td>\n",
              "      <td>876</td>\n",
              "      <td>31.048349</td>\n",
              "      <td>2006</td>\n",
              "      <td>1</td>\n",
              "      <td>1921.0</td>\n",
              "      <td>26.702060</td>\n",
              "      <td>...</td>\n",
              "      <td>0.000000</td>\n",
              "      <td>0.0</td>\n",
              "      <td>0</td>\n",
              "      <td>7</td>\n",
              "      <td>8.944272</td>\n",
              "      <td>2.0</td>\n",
              "      <td>0.000000</td>\n",
              "      <td>12.767145</td>\n",
              "      <td>1</td>\n",
              "      <td>1</td>\n",
              "    </tr>\n",
              "    <tr>\n",
              "      <th>3</th>\n",
              "      <td>8</td>\n",
              "      <td>7.431892</td>\n",
              "      <td>2002</td>\n",
              "      <td>857</td>\n",
              "      <td>1568</td>\n",
              "      <td>41.097445</td>\n",
              "      <td>2002</td>\n",
              "      <td>0</td>\n",
              "      <td>2002.0</td>\n",
              "      <td>34.899857</td>\n",
              "      <td>...</td>\n",
              "      <td>12.165525</td>\n",
              "      <td>0.0</td>\n",
              "      <td>1</td>\n",
              "      <td>5</td>\n",
              "      <td>8.306624</td>\n",
              "      <td>3.0</td>\n",
              "      <td>7.681146</td>\n",
              "      <td>18.708287</td>\n",
              "      <td>1</td>\n",
              "      <td>2</td>\n",
              "    </tr>\n",
              "    <tr>\n",
              "      <th>4</th>\n",
              "      <td>7</td>\n",
              "      <td>7.340187</td>\n",
              "      <td>2001</td>\n",
              "      <td>843</td>\n",
              "      <td>1541</td>\n",
              "      <td>39.255573</td>\n",
              "      <td>2002</td>\n",
              "      <td>0</td>\n",
              "      <td>2001.0</td>\n",
              "      <td>0.000000</td>\n",
              "      <td>...</td>\n",
              "      <td>12.247449</td>\n",
              "      <td>0.0</td>\n",
              "      <td>1</td>\n",
              "      <td>5</td>\n",
              "      <td>10.601536</td>\n",
              "      <td>3.0</td>\n",
              "      <td>9.000000</td>\n",
              "      <td>39.255573</td>\n",
              "      <td>1</td>\n",
              "      <td>0</td>\n",
              "    </tr>\n",
              "  </tbody>\n",
              "</table>\n",
              "<p>5 rows × 21 columns</p>\n",
              "</div>"
            ],
            "text/plain": [
              "   OverallQual  GrLivArea  YearBuilt  GarageArea  TotalBsmtSF   1stFlrSF  \\\n",
              "0            9   7.510978       2007         774         1822  42.755117   \n",
              "1            5   6.795706       1962         308          894  29.899833   \n",
              "2            5   6.871091       1921         432          876  31.048349   \n",
              "3            8   7.431892       2002         857         1568  41.097445   \n",
              "4            7   7.340187       2001         843         1541  39.255573   \n",
              "\n",
              "   YearRemodAdd  KitchenQual  GarageYrBlt  BsmtFinSF1  ...  MasVnrArea  \\\n",
              "0          2007            0       2007.0    6.928203  ...   21.260292   \n",
              "1          1962            1       1962.0    0.000000  ...    0.000000   \n",
              "2          2006            1       1921.0   26.702060  ...    0.000000   \n",
              "3          2002            0       2002.0   34.899857  ...   12.165525   \n",
              "4          2002            0       2001.0    0.000000  ...   12.247449   \n",
              "\n",
              "   2ndFlrSF  GarageFinish  OverallCond  LotFrontage  BedroomAbvGr  \\\n",
              "0       0.0             0            5     9.486833           3.0   \n",
              "1       0.0             0            5     7.745967           2.0   \n",
              "2       0.0             0            7     8.944272           2.0   \n",
              "3       0.0             1            5     8.306624           3.0   \n",
              "4       0.0             1            5    10.601536           3.0   \n",
              "\n",
              "   OpenPorchSF  BsmtUnfSF  BsmtExposure  BsmtFinType1  \n",
              "0    10.392305  42.118879             0             0  \n",
              "1     0.000000  29.899833             1             0  \n",
              "2     0.000000  12.767145             1             1  \n",
              "3     7.681146  18.708287             1             2  \n",
              "4     9.000000  39.255573             1             0  \n",
              "\n",
              "[5 rows x 21 columns]"
            ]
          },
          "execution_count": 27,
          "metadata": {},
          "output_type": "execute_result"
        }
      ],
      "source": [
        "X_train = X_train.filter(best_features)\n",
        "X_test = X_test.filter(best_features)\n",
        "\n",
        "print(X_train.shape, y_train.shape, X_test.shape, y_test.shape)\n",
        "X_train.head(5)"
      ]
    },
    {
      "cell_type": "code",
      "execution_count": 28,
      "metadata": {},
      "outputs": [
        {
          "data": {
            "text/plain": [
              "'ExtraTreesRegressor'"
            ]
          },
          "execution_count": 28,
          "metadata": {},
          "output_type": "execute_result"
        }
      ],
      "source": [
        "best_model"
      ]
    },
    {
      "cell_type": "code",
      "execution_count": 29,
      "metadata": {},
      "outputs": [
        {
          "data": {
            "text/plain": [
              "{'model__max_depth': 15,\n",
              " 'model__min_samples_leaf': 1,\n",
              " 'model__min_samples_split': 2,\n",
              " 'model__n_estimators': 150}"
            ]
          },
          "execution_count": 29,
          "metadata": {},
          "output_type": "execute_result"
        }
      ],
      "source": [
        "best_parameters"
      ]
    },
    {
      "cell_type": "markdown",
      "metadata": {},
      "source": [
        "Now we only apply the best parameters:"
      ]
    },
    {
      "cell_type": "code",
      "execution_count": 31,
      "metadata": {},
      "outputs": [],
      "source": [
        "# ExtraTreesRegressor\n",
        "from sklearn.ensemble import ExtraTreesRegressor\n",
        "\n",
        "models_search = {\n",
        "    \"ExtraTreesRegressor\": ExtraTreesRegressor(random_state=0),\n",
        "}\n",
        "\n",
        "params_search = {\n",
        "    \"ExtraTreesRegressor\": {\n",
        "        \"model__max_depth\": [15],\n",
        "        \"model__min_samples_leaf\": [1],\n",
        "        \"model__min_samples_split\": [2],\n",
        "        \"model__n_estimators\": [150],\n",
        "    }\n",
        "}"
      ]
    },
    {
      "cell_type": "markdown",
      "metadata": {},
      "source": [
        "Perform Grid Search with the best parameters"
      ]
    },
    {
      "cell_type": "code",
      "execution_count": 32,
      "metadata": {},
      "outputs": [
        {
          "name": "stdout",
          "output_type": "stream",
          "text": [
            "\n",
            "Running GridSearchCV for ExtraTreesRegressor \n",
            "\n",
            "Fitting 5 folds for each of 1 candidates, totalling 5 fits\n"
          ]
        }
      ],
      "source": [
        "search = HyperparameterOptimizationSearch(models=models_search, params=params_search)\n",
        "search.fit(X_train, y_train, scoring=\"r2\", n_jobs=-1, cv=5)"
      ]
    },
    {
      "cell_type": "markdown",
      "metadata": {},
      "source": [
        "View search results"
      ]
    },
    {
      "cell_type": "code",
      "execution_count": 33,
      "metadata": {},
      "outputs": [
        {
          "data": {
            "text/html": [
              "<div>\n",
              "<style scoped>\n",
              "    .dataframe tbody tr th:only-of-type {\n",
              "        vertical-align: middle;\n",
              "    }\n",
              "\n",
              "    .dataframe tbody tr th {\n",
              "        vertical-align: top;\n",
              "    }\n",
              "\n",
              "    .dataframe thead th {\n",
              "        text-align: right;\n",
              "    }\n",
              "</style>\n",
              "<table border=\"1\" class=\"dataframe\">\n",
              "  <thead>\n",
              "    <tr style=\"text-align: right;\">\n",
              "      <th></th>\n",
              "      <th>estimator</th>\n",
              "      <th>min_score</th>\n",
              "      <th>mean_score</th>\n",
              "      <th>max_score</th>\n",
              "      <th>std_score</th>\n",
              "      <th>model__max_depth</th>\n",
              "      <th>model__min_samples_leaf</th>\n",
              "      <th>model__min_samples_split</th>\n",
              "      <th>model__n_estimators</th>\n",
              "    </tr>\n",
              "  </thead>\n",
              "  <tbody>\n",
              "    <tr>\n",
              "      <th>0</th>\n",
              "      <td>ExtraTreesRegressor</td>\n",
              "      <td>0.75015</td>\n",
              "      <td>0.859171</td>\n",
              "      <td>0.902254</td>\n",
              "      <td>0.056113</td>\n",
              "      <td>15</td>\n",
              "      <td>1</td>\n",
              "      <td>2</td>\n",
              "      <td>150</td>\n",
              "    </tr>\n",
              "  </tbody>\n",
              "</table>\n",
              "</div>"
            ],
            "text/plain": [
              "             estimator min_score mean_score max_score std_score  \\\n",
              "0  ExtraTreesRegressor   0.75015   0.859171  0.902254  0.056113   \n",
              "\n",
              "  model__max_depth model__min_samples_leaf model__min_samples_split  \\\n",
              "0               15                       1                        2   \n",
              "\n",
              "  model__n_estimators  \n",
              "0                 150  "
            ]
          },
          "execution_count": 33,
          "metadata": {},
          "output_type": "execute_result"
        }
      ],
      "source": [
        "grid_search_summary, grid_search_pipelines = search.score_summary(sort_by=\"mean_score\")\n",
        "grid_search_summary"
      ]
    },
    {
      "cell_type": "markdown",
      "metadata": {},
      "source": [
        "Confirm dataset shape"
      ]
    },
    {
      "cell_type": "code",
      "execution_count": 34,
      "metadata": {},
      "outputs": [
        {
          "name": "stdout",
          "output_type": "stream",
          "text": [
            "(1168, 21) (1168,) (292, 21) (292,)\n"
          ]
        },
        {
          "data": {
            "text/html": [
              "<div>\n",
              "<style scoped>\n",
              "    .dataframe tbody tr th:only-of-type {\n",
              "        vertical-align: middle;\n",
              "    }\n",
              "\n",
              "    .dataframe tbody tr th {\n",
              "        vertical-align: top;\n",
              "    }\n",
              "\n",
              "    .dataframe thead th {\n",
              "        text-align: right;\n",
              "    }\n",
              "</style>\n",
              "<table border=\"1\" class=\"dataframe\">\n",
              "  <thead>\n",
              "    <tr style=\"text-align: right;\">\n",
              "      <th></th>\n",
              "      <th>OverallQual</th>\n",
              "      <th>GrLivArea</th>\n",
              "      <th>YearBuilt</th>\n",
              "      <th>GarageArea</th>\n",
              "      <th>TotalBsmtSF</th>\n",
              "      <th>1stFlrSF</th>\n",
              "      <th>YearRemodAdd</th>\n",
              "      <th>KitchenQual</th>\n",
              "      <th>GarageYrBlt</th>\n",
              "      <th>BsmtFinSF1</th>\n",
              "      <th>...</th>\n",
              "      <th>MasVnrArea</th>\n",
              "      <th>2ndFlrSF</th>\n",
              "      <th>GarageFinish</th>\n",
              "      <th>OverallCond</th>\n",
              "      <th>LotFrontage</th>\n",
              "      <th>BedroomAbvGr</th>\n",
              "      <th>OpenPorchSF</th>\n",
              "      <th>BsmtUnfSF</th>\n",
              "      <th>BsmtExposure</th>\n",
              "      <th>BsmtFinType1</th>\n",
              "    </tr>\n",
              "  </thead>\n",
              "  <tbody>\n",
              "    <tr>\n",
              "      <th>0</th>\n",
              "      <td>9</td>\n",
              "      <td>7.510978</td>\n",
              "      <td>2007</td>\n",
              "      <td>774</td>\n",
              "      <td>1822</td>\n",
              "      <td>42.755117</td>\n",
              "      <td>2007</td>\n",
              "      <td>0</td>\n",
              "      <td>2007.0</td>\n",
              "      <td>6.928203</td>\n",
              "      <td>...</td>\n",
              "      <td>21.260292</td>\n",
              "      <td>0.0</td>\n",
              "      <td>0</td>\n",
              "      <td>5</td>\n",
              "      <td>9.486833</td>\n",
              "      <td>3.0</td>\n",
              "      <td>10.392305</td>\n",
              "      <td>42.118879</td>\n",
              "      <td>0</td>\n",
              "      <td>0</td>\n",
              "    </tr>\n",
              "    <tr>\n",
              "      <th>1</th>\n",
              "      <td>5</td>\n",
              "      <td>6.795706</td>\n",
              "      <td>1962</td>\n",
              "      <td>308</td>\n",
              "      <td>894</td>\n",
              "      <td>29.899833</td>\n",
              "      <td>1962</td>\n",
              "      <td>1</td>\n",
              "      <td>1962.0</td>\n",
              "      <td>0.000000</td>\n",
              "      <td>...</td>\n",
              "      <td>0.000000</td>\n",
              "      <td>0.0</td>\n",
              "      <td>0</td>\n",
              "      <td>5</td>\n",
              "      <td>7.745967</td>\n",
              "      <td>2.0</td>\n",
              "      <td>0.000000</td>\n",
              "      <td>29.899833</td>\n",
              "      <td>1</td>\n",
              "      <td>0</td>\n",
              "    </tr>\n",
              "    <tr>\n",
              "      <th>2</th>\n",
              "      <td>5</td>\n",
              "      <td>6.871091</td>\n",
              "      <td>1921</td>\n",
              "      <td>432</td>\n",
              "      <td>876</td>\n",
              "      <td>31.048349</td>\n",
              "      <td>2006</td>\n",
              "      <td>1</td>\n",
              "      <td>1921.0</td>\n",
              "      <td>26.702060</td>\n",
              "      <td>...</td>\n",
              "      <td>0.000000</td>\n",
              "      <td>0.0</td>\n",
              "      <td>0</td>\n",
              "      <td>7</td>\n",
              "      <td>8.944272</td>\n",
              "      <td>2.0</td>\n",
              "      <td>0.000000</td>\n",
              "      <td>12.767145</td>\n",
              "      <td>1</td>\n",
              "      <td>1</td>\n",
              "    </tr>\n",
              "  </tbody>\n",
              "</table>\n",
              "<p>3 rows × 21 columns</p>\n",
              "</div>"
            ],
            "text/plain": [
              "   OverallQual  GrLivArea  YearBuilt  GarageArea  TotalBsmtSF   1stFlrSF  \\\n",
              "0            9   7.510978       2007         774         1822  42.755117   \n",
              "1            5   6.795706       1962         308          894  29.899833   \n",
              "2            5   6.871091       1921         432          876  31.048349   \n",
              "\n",
              "   YearRemodAdd  KitchenQual  GarageYrBlt  BsmtFinSF1  ...  MasVnrArea  \\\n",
              "0          2007            0       2007.0    6.928203  ...   21.260292   \n",
              "1          1962            1       1962.0    0.000000  ...    0.000000   \n",
              "2          2006            1       1921.0   26.702060  ...    0.000000   \n",
              "\n",
              "   2ndFlrSF  GarageFinish  OverallCond  LotFrontage  BedroomAbvGr  \\\n",
              "0       0.0             0            5     9.486833           3.0   \n",
              "1       0.0             0            5     7.745967           2.0   \n",
              "2       0.0             0            7     8.944272           2.0   \n",
              "\n",
              "   OpenPorchSF  BsmtUnfSF  BsmtExposure  BsmtFinType1  \n",
              "0    10.392305  42.118879             0             0  \n",
              "1     0.000000  29.899833             1             0  \n",
              "2     0.000000  12.767145             1             1  \n",
              "\n",
              "[3 rows x 21 columns]"
            ]
          },
          "execution_count": 34,
          "metadata": {},
          "output_type": "execute_result"
        }
      ],
      "source": [
        "print(X_train.shape, y_train.shape, X_test.shape, y_test.shape)\n",
        "X_train.head(3)"
      ]
    },
    {
      "cell_type": "markdown",
      "metadata": {},
      "source": [
        "Extract the best estimator pipeline"
      ]
    },
    {
      "cell_type": "code",
      "execution_count": 35,
      "metadata": {},
      "outputs": [
        {
          "data": {
            "text/html": [
              "<style>#sk-container-id-1 {color: black;}#sk-container-id-1 pre{padding: 0;}#sk-container-id-1 div.sk-toggleable {background-color: white;}#sk-container-id-1 label.sk-toggleable__label {cursor: pointer;display: block;width: 100%;margin-bottom: 0;padding: 0.3em;box-sizing: border-box;text-align: center;}#sk-container-id-1 label.sk-toggleable__label-arrow:before {content: \"▸\";float: left;margin-right: 0.25em;color: #696969;}#sk-container-id-1 label.sk-toggleable__label-arrow:hover:before {color: black;}#sk-container-id-1 div.sk-estimator:hover label.sk-toggleable__label-arrow:before {color: black;}#sk-container-id-1 div.sk-toggleable__content {max-height: 0;max-width: 0;overflow: hidden;text-align: left;background-color: #f0f8ff;}#sk-container-id-1 div.sk-toggleable__content pre {margin: 0.2em;color: black;border-radius: 0.25em;background-color: #f0f8ff;}#sk-container-id-1 input.sk-toggleable__control:checked~div.sk-toggleable__content {max-height: 200px;max-width: 100%;overflow: auto;}#sk-container-id-1 input.sk-toggleable__control:checked~label.sk-toggleable__label-arrow:before {content: \"▾\";}#sk-container-id-1 div.sk-estimator input.sk-toggleable__control:checked~label.sk-toggleable__label {background-color: #d4ebff;}#sk-container-id-1 div.sk-label input.sk-toggleable__control:checked~label.sk-toggleable__label {background-color: #d4ebff;}#sk-container-id-1 input.sk-hidden--visually {border: 0;clip: rect(1px 1px 1px 1px);clip: rect(1px, 1px, 1px, 1px);height: 1px;margin: -1px;overflow: hidden;padding: 0;position: absolute;width: 1px;}#sk-container-id-1 div.sk-estimator {font-family: monospace;background-color: #f0f8ff;border: 1px dotted black;border-radius: 0.25em;box-sizing: border-box;margin-bottom: 0.5em;}#sk-container-id-1 div.sk-estimator:hover {background-color: #d4ebff;}#sk-container-id-1 div.sk-parallel-item::after {content: \"\";width: 100%;border-bottom: 1px solid gray;flex-grow: 1;}#sk-container-id-1 div.sk-label:hover label.sk-toggleable__label {background-color: #d4ebff;}#sk-container-id-1 div.sk-serial::before {content: \"\";position: absolute;border-left: 1px solid gray;box-sizing: border-box;top: 0;bottom: 0;left: 50%;z-index: 0;}#sk-container-id-1 div.sk-serial {display: flex;flex-direction: column;align-items: center;background-color: white;padding-right: 0.2em;padding-left: 0.2em;position: relative;}#sk-container-id-1 div.sk-item {position: relative;z-index: 1;}#sk-container-id-1 div.sk-parallel {display: flex;align-items: stretch;justify-content: center;background-color: white;position: relative;}#sk-container-id-1 div.sk-item::before, #sk-container-id-1 div.sk-parallel-item::before {content: \"\";position: absolute;border-left: 1px solid gray;box-sizing: border-box;top: 0;bottom: 0;left: 50%;z-index: -1;}#sk-container-id-1 div.sk-parallel-item {display: flex;flex-direction: column;z-index: 1;position: relative;background-color: white;}#sk-container-id-1 div.sk-parallel-item:first-child::after {align-self: flex-end;width: 50%;}#sk-container-id-1 div.sk-parallel-item:last-child::after {align-self: flex-start;width: 50%;}#sk-container-id-1 div.sk-parallel-item:only-child::after {width: 0;}#sk-container-id-1 div.sk-dashed-wrapped {border: 1px dashed gray;margin: 0 0.4em 0.5em 0.4em;box-sizing: border-box;padding-bottom: 0.4em;background-color: white;}#sk-container-id-1 div.sk-label label {font-family: monospace;font-weight: bold;display: inline-block;line-height: 1.2em;}#sk-container-id-1 div.sk-label-container {text-align: center;}#sk-container-id-1 div.sk-container {/* jupyter's `normalize.less` sets `[hidden] { display: none; }` but bootstrap.min.css set `[hidden] { display: none !important; }` so we also need the `!important` here to be able to override the default hidden behavior on the sphinx rendered scikit-learn.org. See: https://github.com/scikit-learn/scikit-learn/issues/21755 */display: inline-block !important;position: relative;}#sk-container-id-1 div.sk-text-repr-fallback {display: none;}</style><div id=\"sk-container-id-1\" class=\"sk-top-container\"><div class=\"sk-text-repr-fallback\"><pre>Pipeline(steps=[(&#x27;scaler&#x27;, StandardScaler()),\n",
              "                (&#x27;model&#x27;,\n",
              "                 ExtraTreesRegressor(max_depth=15, n_estimators=150,\n",
              "                                     random_state=0))])</pre><b>In a Jupyter environment, please rerun this cell to show the HTML representation or trust the notebook. <br />On GitHub, the HTML representation is unable to render, please try loading this page with nbviewer.org.</b></div><div class=\"sk-container\" hidden><div class=\"sk-item sk-dashed-wrapped\"><div class=\"sk-label-container\"><div class=\"sk-label sk-toggleable\"><input class=\"sk-toggleable__control sk-hidden--visually\" id=\"sk-estimator-id-1\" type=\"checkbox\" ><label for=\"sk-estimator-id-1\" class=\"sk-toggleable__label sk-toggleable__label-arrow\">Pipeline</label><div class=\"sk-toggleable__content\"><pre>Pipeline(steps=[(&#x27;scaler&#x27;, StandardScaler()),\n",
              "                (&#x27;model&#x27;,\n",
              "                 ExtraTreesRegressor(max_depth=15, n_estimators=150,\n",
              "                                     random_state=0))])</pre></div></div></div><div class=\"sk-serial\"><div class=\"sk-item\"><div class=\"sk-estimator sk-toggleable\"><input class=\"sk-toggleable__control sk-hidden--visually\" id=\"sk-estimator-id-2\" type=\"checkbox\" ><label for=\"sk-estimator-id-2\" class=\"sk-toggleable__label sk-toggleable__label-arrow\">StandardScaler</label><div class=\"sk-toggleable__content\"><pre>StandardScaler()</pre></div></div></div><div class=\"sk-item\"><div class=\"sk-estimator sk-toggleable\"><input class=\"sk-toggleable__control sk-hidden--visually\" id=\"sk-estimator-id-3\" type=\"checkbox\" ><label for=\"sk-estimator-id-3\" class=\"sk-toggleable__label sk-toggleable__label-arrow\">ExtraTreesRegressor</label><div class=\"sk-toggleable__content\"><pre>ExtraTreesRegressor(max_depth=15, n_estimators=150, random_state=0)</pre></div></div></div></div></div></div></div>"
            ],
            "text/plain": [
              "Pipeline(steps=[('scaler', StandardScaler()),\n",
              "                ('model',\n",
              "                 ExtraTreesRegressor(max_depth=15, n_estimators=150,\n",
              "                                     random_state=0))])"
            ]
          },
          "execution_count": 35,
          "metadata": {},
          "output_type": "execute_result"
        }
      ],
      "source": [
        "best_model = grid_search_summary.iloc[0, 0]\n",
        "best_regressor_pipeline = grid_search_pipelines[best_model].best_estimator_\n",
        "best_regressor_pipeline"
      ]
    },
    {
      "cell_type": "markdown",
      "metadata": {},
      "source": [
        "## Retrain and Save Final ExtraTreesRegressor Pipeline with Best Parameters"
      ]
    },
    {
      "cell_type": "code",
      "execution_count": 36,
      "metadata": {},
      "outputs": [
        {
          "data": {
            "text/plain": [
              "['outputs/ml_pipeline/predict_sale_price/v1/best_regressor_pipeline.pkl']"
            ]
          },
          "execution_count": 36,
          "metadata": {},
          "output_type": "execute_result"
        }
      ],
      "source": [
        "from sklearn.ensemble import ExtraTreesRegressor\n",
        "from sklearn.pipeline import Pipeline\n",
        "from sklearn.preprocessing import StandardScaler\n",
        "import joblib\n",
        "import os\n",
        "\n",
        "# Final best model based on grid search results\n",
        "best_model = ExtraTreesRegressor(\n",
        "    max_depth=15,\n",
        "    min_samples_leaf=1,\n",
        "    min_samples_split=2,\n",
        "    n_estimators=150,\n",
        "    random_state=0\n",
        ")\n",
        "\n",
        "# Final pipeline with scaler and model\n",
        "best_regressor_pipeline = Pipeline([\n",
        "    (\"scaler\", StandardScaler()),\n",
        "    (\"model\", best_model),\n",
        "])\n",
        "\n",
        "# Fit pipeline to training data\n",
        "best_regressor_pipeline.fit(X_train, y_train)\n",
        "\n",
        "# Create output directory if it doesn't exist\n",
        "output_dir = \"outputs/ml_pipeline/predict_sale_price/v1\"\n",
        "os.makedirs(output_dir, exist_ok=True)\n",
        "\n",
        "# Save the pipeline\n",
        "joblib.dump(best_regressor_pipeline, f\"{output_dir}/best_regressor_pipeline.pkl\")\n"
      ]
    },
    {
      "cell_type": "markdown",
      "metadata": {},
      "source": [
        "---"
      ]
    },
    {
      "cell_type": "markdown",
      "metadata": {
        "id": "ltNetd085qHf"
      },
      "source": [
        "# Push files to Repo"
      ]
    },
    {
      "cell_type": "markdown",
      "metadata": {},
      "source": [
        "The following files will be created and pushed to the repo:\n",
        "\n",
        "- Train Set\n",
        "- Test Set\n",
        "- Modeling Pipeline\n",
        "- Feature importance Plot"
      ]
    },
    {
      "cell_type": "code",
      "execution_count": 37,
      "metadata": {
        "id": "aKlnIozA4eQO",
        "outputId": "fd09bc1f-adb1-4511-f6ce-492a6af570c0"
      },
      "outputs": [
        {
          "name": "stdout",
          "output_type": "stream",
          "text": [
            "[Errno 17] File exists: 'outputs/ml_pipeline/predict_sale_price/v1'\n"
          ]
        }
      ],
      "source": [
        "import joblib\n",
        "import os\n",
        "\n",
        "version = \"v1\"\n",
        "file_path = f\"outputs/ml_pipeline/predict_sale_price/{version}\"\n",
        "\n",
        "try:\n",
        "    os.makedirs(name=file_path)\n",
        "except Exception as e:\n",
        "    print(e)"
      ]
    },
    {
      "cell_type": "markdown",
      "metadata": {},
      "source": [
        "## Train Set: Features And Target"
      ]
    },
    {
      "cell_type": "code",
      "execution_count": 38,
      "metadata": {},
      "outputs": [
        {
          "name": "stdout",
          "output_type": "stream",
          "text": [
            "(1168, 21)\n"
          ]
        },
        {
          "data": {
            "text/html": [
              "<div>\n",
              "<style scoped>\n",
              "    .dataframe tbody tr th:only-of-type {\n",
              "        vertical-align: middle;\n",
              "    }\n",
              "\n",
              "    .dataframe tbody tr th {\n",
              "        vertical-align: top;\n",
              "    }\n",
              "\n",
              "    .dataframe thead th {\n",
              "        text-align: right;\n",
              "    }\n",
              "</style>\n",
              "<table border=\"1\" class=\"dataframe\">\n",
              "  <thead>\n",
              "    <tr style=\"text-align: right;\">\n",
              "      <th></th>\n",
              "      <th>OverallQual</th>\n",
              "      <th>GrLivArea</th>\n",
              "      <th>YearBuilt</th>\n",
              "      <th>GarageArea</th>\n",
              "      <th>TotalBsmtSF</th>\n",
              "      <th>1stFlrSF</th>\n",
              "      <th>YearRemodAdd</th>\n",
              "      <th>KitchenQual</th>\n",
              "      <th>GarageYrBlt</th>\n",
              "      <th>BsmtFinSF1</th>\n",
              "      <th>...</th>\n",
              "      <th>MasVnrArea</th>\n",
              "      <th>2ndFlrSF</th>\n",
              "      <th>GarageFinish</th>\n",
              "      <th>OverallCond</th>\n",
              "      <th>LotFrontage</th>\n",
              "      <th>BedroomAbvGr</th>\n",
              "      <th>OpenPorchSF</th>\n",
              "      <th>BsmtUnfSF</th>\n",
              "      <th>BsmtExposure</th>\n",
              "      <th>BsmtFinType1</th>\n",
              "    </tr>\n",
              "  </thead>\n",
              "  <tbody>\n",
              "    <tr>\n",
              "      <th>0</th>\n",
              "      <td>9</td>\n",
              "      <td>7.510978</td>\n",
              "      <td>2007</td>\n",
              "      <td>774</td>\n",
              "      <td>1822</td>\n",
              "      <td>42.755117</td>\n",
              "      <td>2007</td>\n",
              "      <td>0</td>\n",
              "      <td>2007.0</td>\n",
              "      <td>6.928203</td>\n",
              "      <td>...</td>\n",
              "      <td>21.260292</td>\n",
              "      <td>0.0</td>\n",
              "      <td>0</td>\n",
              "      <td>5</td>\n",
              "      <td>9.486833</td>\n",
              "      <td>3.0</td>\n",
              "      <td>10.392305</td>\n",
              "      <td>42.118879</td>\n",
              "      <td>0</td>\n",
              "      <td>0</td>\n",
              "    </tr>\n",
              "    <tr>\n",
              "      <th>1</th>\n",
              "      <td>5</td>\n",
              "      <td>6.795706</td>\n",
              "      <td>1962</td>\n",
              "      <td>308</td>\n",
              "      <td>894</td>\n",
              "      <td>29.899833</td>\n",
              "      <td>1962</td>\n",
              "      <td>1</td>\n",
              "      <td>1962.0</td>\n",
              "      <td>0.000000</td>\n",
              "      <td>...</td>\n",
              "      <td>0.000000</td>\n",
              "      <td>0.0</td>\n",
              "      <td>0</td>\n",
              "      <td>5</td>\n",
              "      <td>7.745967</td>\n",
              "      <td>2.0</td>\n",
              "      <td>0.000000</td>\n",
              "      <td>29.899833</td>\n",
              "      <td>1</td>\n",
              "      <td>0</td>\n",
              "    </tr>\n",
              "    <tr>\n",
              "      <th>2</th>\n",
              "      <td>5</td>\n",
              "      <td>6.871091</td>\n",
              "      <td>1921</td>\n",
              "      <td>432</td>\n",
              "      <td>876</td>\n",
              "      <td>31.048349</td>\n",
              "      <td>2006</td>\n",
              "      <td>1</td>\n",
              "      <td>1921.0</td>\n",
              "      <td>26.702060</td>\n",
              "      <td>...</td>\n",
              "      <td>0.000000</td>\n",
              "      <td>0.0</td>\n",
              "      <td>0</td>\n",
              "      <td>7</td>\n",
              "      <td>8.944272</td>\n",
              "      <td>2.0</td>\n",
              "      <td>0.000000</td>\n",
              "      <td>12.767145</td>\n",
              "      <td>1</td>\n",
              "      <td>1</td>\n",
              "    </tr>\n",
              "    <tr>\n",
              "      <th>3</th>\n",
              "      <td>8</td>\n",
              "      <td>7.431892</td>\n",
              "      <td>2002</td>\n",
              "      <td>857</td>\n",
              "      <td>1568</td>\n",
              "      <td>41.097445</td>\n",
              "      <td>2002</td>\n",
              "      <td>0</td>\n",
              "      <td>2002.0</td>\n",
              "      <td>34.899857</td>\n",
              "      <td>...</td>\n",
              "      <td>12.165525</td>\n",
              "      <td>0.0</td>\n",
              "      <td>1</td>\n",
              "      <td>5</td>\n",
              "      <td>8.306624</td>\n",
              "      <td>3.0</td>\n",
              "      <td>7.681146</td>\n",
              "      <td>18.708287</td>\n",
              "      <td>1</td>\n",
              "      <td>2</td>\n",
              "    </tr>\n",
              "    <tr>\n",
              "      <th>4</th>\n",
              "      <td>7</td>\n",
              "      <td>7.340187</td>\n",
              "      <td>2001</td>\n",
              "      <td>843</td>\n",
              "      <td>1541</td>\n",
              "      <td>39.255573</td>\n",
              "      <td>2002</td>\n",
              "      <td>0</td>\n",
              "      <td>2001.0</td>\n",
              "      <td>0.000000</td>\n",
              "      <td>...</td>\n",
              "      <td>12.247449</td>\n",
              "      <td>0.0</td>\n",
              "      <td>1</td>\n",
              "      <td>5</td>\n",
              "      <td>10.601536</td>\n",
              "      <td>3.0</td>\n",
              "      <td>9.000000</td>\n",
              "      <td>39.255573</td>\n",
              "      <td>1</td>\n",
              "      <td>0</td>\n",
              "    </tr>\n",
              "  </tbody>\n",
              "</table>\n",
              "<p>5 rows × 21 columns</p>\n",
              "</div>"
            ],
            "text/plain": [
              "   OverallQual  GrLivArea  YearBuilt  GarageArea  TotalBsmtSF   1stFlrSF  \\\n",
              "0            9   7.510978       2007         774         1822  42.755117   \n",
              "1            5   6.795706       1962         308          894  29.899833   \n",
              "2            5   6.871091       1921         432          876  31.048349   \n",
              "3            8   7.431892       2002         857         1568  41.097445   \n",
              "4            7   7.340187       2001         843         1541  39.255573   \n",
              "\n",
              "   YearRemodAdd  KitchenQual  GarageYrBlt  BsmtFinSF1  ...  MasVnrArea  \\\n",
              "0          2007            0       2007.0    6.928203  ...   21.260292   \n",
              "1          1962            1       1962.0    0.000000  ...    0.000000   \n",
              "2          2006            1       1921.0   26.702060  ...    0.000000   \n",
              "3          2002            0       2002.0   34.899857  ...   12.165525   \n",
              "4          2002            0       2001.0    0.000000  ...   12.247449   \n",
              "\n",
              "   2ndFlrSF  GarageFinish  OverallCond  LotFrontage  BedroomAbvGr  \\\n",
              "0       0.0             0            5     9.486833           3.0   \n",
              "1       0.0             0            5     7.745967           2.0   \n",
              "2       0.0             0            7     8.944272           2.0   \n",
              "3       0.0             1            5     8.306624           3.0   \n",
              "4       0.0             1            5    10.601536           3.0   \n",
              "\n",
              "   OpenPorchSF  BsmtUnfSF  BsmtExposure  BsmtFinType1  \n",
              "0    10.392305  42.118879             0             0  \n",
              "1     0.000000  29.899833             1             0  \n",
              "2     0.000000  12.767145             1             1  \n",
              "3     7.681146  18.708287             1             2  \n",
              "4     9.000000  39.255573             1             0  \n",
              "\n",
              "[5 rows x 21 columns]"
            ]
          },
          "execution_count": 38,
          "metadata": {},
          "output_type": "execute_result"
        }
      ],
      "source": [
        "print(X_train.shape)\n",
        "X_train.head()"
      ]
    },
    {
      "cell_type": "code",
      "execution_count": 39,
      "metadata": {},
      "outputs": [],
      "source": [
        "X_train.to_csv(f\"{file_path}/X_train.csv\", index=False)"
      ]
    },
    {
      "cell_type": "code",
      "execution_count": 40,
      "metadata": {},
      "outputs": [
        {
          "data": {
            "text/plain": [
              "0    314813\n",
              "1    109500\n",
              "2    163500\n",
              "3    271000\n",
              "4    205000\n",
              "Name: SalePrice, dtype: int64"
            ]
          },
          "execution_count": 40,
          "metadata": {},
          "output_type": "execute_result"
        }
      ],
      "source": [
        "y_train.head()"
      ]
    },
    {
      "cell_type": "code",
      "execution_count": 41,
      "metadata": {},
      "outputs": [],
      "source": [
        "y_train.to_csv(f\"{file_path}/y_train.csv\", index=False)"
      ]
    },
    {
      "cell_type": "markdown",
      "metadata": {},
      "source": [
        "## Test Set: Features And Target"
      ]
    },
    {
      "cell_type": "code",
      "execution_count": 42,
      "metadata": {},
      "outputs": [
        {
          "name": "stdout",
          "output_type": "stream",
          "text": [
            "(292, 21)\n"
          ]
        },
        {
          "data": {
            "text/html": [
              "<div>\n",
              "<style scoped>\n",
              "    .dataframe tbody tr th:only-of-type {\n",
              "        vertical-align: middle;\n",
              "    }\n",
              "\n",
              "    .dataframe tbody tr th {\n",
              "        vertical-align: top;\n",
              "    }\n",
              "\n",
              "    .dataframe thead th {\n",
              "        text-align: right;\n",
              "    }\n",
              "</style>\n",
              "<table border=\"1\" class=\"dataframe\">\n",
              "  <thead>\n",
              "    <tr style=\"text-align: right;\">\n",
              "      <th></th>\n",
              "      <th>OverallQual</th>\n",
              "      <th>GrLivArea</th>\n",
              "      <th>YearBuilt</th>\n",
              "      <th>GarageArea</th>\n",
              "      <th>TotalBsmtSF</th>\n",
              "      <th>1stFlrSF</th>\n",
              "      <th>YearRemodAdd</th>\n",
              "      <th>KitchenQual</th>\n",
              "      <th>GarageYrBlt</th>\n",
              "      <th>BsmtFinSF1</th>\n",
              "      <th>...</th>\n",
              "      <th>MasVnrArea</th>\n",
              "      <th>2ndFlrSF</th>\n",
              "      <th>GarageFinish</th>\n",
              "      <th>OverallCond</th>\n",
              "      <th>LotFrontage</th>\n",
              "      <th>BedroomAbvGr</th>\n",
              "      <th>OpenPorchSF</th>\n",
              "      <th>BsmtUnfSF</th>\n",
              "      <th>BsmtExposure</th>\n",
              "      <th>BsmtFinType1</th>\n",
              "    </tr>\n",
              "  </thead>\n",
              "  <tbody>\n",
              "    <tr>\n",
              "      <th>0</th>\n",
              "      <td>6</td>\n",
              "      <td>7.830028</td>\n",
              "      <td>1957</td>\n",
              "      <td>484</td>\n",
              "      <td>2035</td>\n",
              "      <td>48.583403</td>\n",
              "      <td>1975</td>\n",
              "      <td>0</td>\n",
              "      <td>1975.0</td>\n",
              "      <td>34.914181</td>\n",
              "      <td>...</td>\n",
              "      <td>0.000000</td>\n",
              "      <td>0.000000</td>\n",
              "      <td>0</td>\n",
              "      <td>3</td>\n",
              "      <td>8.306624</td>\n",
              "      <td>4.0</td>\n",
              "      <td>0.000000</td>\n",
              "      <td>28.565714</td>\n",
              "      <td>0</td>\n",
              "      <td>0</td>\n",
              "    </tr>\n",
              "    <tr>\n",
              "      <th>1</th>\n",
              "      <td>6</td>\n",
              "      <td>7.363914</td>\n",
              "      <td>1941</td>\n",
              "      <td>240</td>\n",
              "      <td>806</td>\n",
              "      <td>30.951575</td>\n",
              "      <td>1950</td>\n",
              "      <td>1</td>\n",
              "      <td>1941.0</td>\n",
              "      <td>20.074860</td>\n",
              "      <td>...</td>\n",
              "      <td>0.000000</td>\n",
              "      <td>24.899799</td>\n",
              "      <td>0</td>\n",
              "      <td>7</td>\n",
              "      <td>8.888194</td>\n",
              "      <td>3.0</td>\n",
              "      <td>0.000000</td>\n",
              "      <td>15.427249</td>\n",
              "      <td>0</td>\n",
              "      <td>1</td>\n",
              "    </tr>\n",
              "    <tr>\n",
              "      <th>2</th>\n",
              "      <td>5</td>\n",
              "      <td>7.092574</td>\n",
              "      <td>1950</td>\n",
              "      <td>352</td>\n",
              "      <td>709</td>\n",
              "      <td>31.288976</td>\n",
              "      <td>1950</td>\n",
              "      <td>2</td>\n",
              "      <td>1950.0</td>\n",
              "      <td>13.601471</td>\n",
              "      <td>...</td>\n",
              "      <td>12.688578</td>\n",
              "      <td>14.966630</td>\n",
              "      <td>0</td>\n",
              "      <td>4</td>\n",
              "      <td>8.306624</td>\n",
              "      <td>3.0</td>\n",
              "      <td>0.000000</td>\n",
              "      <td>22.891046</td>\n",
              "      <td>0</td>\n",
              "      <td>2</td>\n",
              "    </tr>\n",
              "    <tr>\n",
              "      <th>3</th>\n",
              "      <td>7</td>\n",
              "      <td>7.611842</td>\n",
              "      <td>1977</td>\n",
              "      <td>505</td>\n",
              "      <td>1160</td>\n",
              "      <td>34.000000</td>\n",
              "      <td>1977</td>\n",
              "      <td>0</td>\n",
              "      <td>1977.0</td>\n",
              "      <td>19.798990</td>\n",
              "      <td>...</td>\n",
              "      <td>17.291616</td>\n",
              "      <td>29.427878</td>\n",
              "      <td>1</td>\n",
              "      <td>5</td>\n",
              "      <td>9.110434</td>\n",
              "      <td>4.0</td>\n",
              "      <td>10.816654</td>\n",
              "      <td>27.712813</td>\n",
              "      <td>0</td>\n",
              "      <td>1</td>\n",
              "    </tr>\n",
              "    <tr>\n",
              "      <th>4</th>\n",
              "      <td>6</td>\n",
              "      <td>6.995766</td>\n",
              "      <td>1971</td>\n",
              "      <td>264</td>\n",
              "      <td>525</td>\n",
              "      <td>22.912878</td>\n",
              "      <td>1971</td>\n",
              "      <td>0</td>\n",
              "      <td>1971.0</td>\n",
              "      <td>0.000000</td>\n",
              "      <td>...</td>\n",
              "      <td>19.519221</td>\n",
              "      <td>0.000000</td>\n",
              "      <td>0</td>\n",
              "      <td>5</td>\n",
              "      <td>6.032625</td>\n",
              "      <td>3.0</td>\n",
              "      <td>0.000000</td>\n",
              "      <td>22.912878</td>\n",
              "      <td>0</td>\n",
              "      <td>3</td>\n",
              "    </tr>\n",
              "  </tbody>\n",
              "</table>\n",
              "<p>5 rows × 21 columns</p>\n",
              "</div>"
            ],
            "text/plain": [
              "   OverallQual  GrLivArea  YearBuilt  GarageArea  TotalBsmtSF   1stFlrSF  \\\n",
              "0            6   7.830028       1957         484         2035  48.583403   \n",
              "1            6   7.363914       1941         240          806  30.951575   \n",
              "2            5   7.092574       1950         352          709  31.288976   \n",
              "3            7   7.611842       1977         505         1160  34.000000   \n",
              "4            6   6.995766       1971         264          525  22.912878   \n",
              "\n",
              "   YearRemodAdd  KitchenQual  GarageYrBlt  BsmtFinSF1  ...  MasVnrArea  \\\n",
              "0          1975            0       1975.0   34.914181  ...    0.000000   \n",
              "1          1950            1       1941.0   20.074860  ...    0.000000   \n",
              "2          1950            2       1950.0   13.601471  ...   12.688578   \n",
              "3          1977            0       1977.0   19.798990  ...   17.291616   \n",
              "4          1971            0       1971.0    0.000000  ...   19.519221   \n",
              "\n",
              "    2ndFlrSF  GarageFinish  OverallCond  LotFrontage  BedroomAbvGr  \\\n",
              "0   0.000000             0            3     8.306624           4.0   \n",
              "1  24.899799             0            7     8.888194           3.0   \n",
              "2  14.966630             0            4     8.306624           3.0   \n",
              "3  29.427878             1            5     9.110434           4.0   \n",
              "4   0.000000             0            5     6.032625           3.0   \n",
              "\n",
              "   OpenPorchSF  BsmtUnfSF  BsmtExposure  BsmtFinType1  \n",
              "0     0.000000  28.565714             0             0  \n",
              "1     0.000000  15.427249             0             1  \n",
              "2     0.000000  22.891046             0             2  \n",
              "3    10.816654  27.712813             0             1  \n",
              "4     0.000000  22.912878             0             3  \n",
              "\n",
              "[5 rows x 21 columns]"
            ]
          },
          "execution_count": 42,
          "metadata": {},
          "output_type": "execute_result"
        }
      ],
      "source": [
        "print(X_test.shape)\n",
        "X_test.head()"
      ]
    },
    {
      "cell_type": "code",
      "execution_count": 43,
      "metadata": {},
      "outputs": [],
      "source": [
        "X_test.to_csv(f\"{file_path}/X_test.csv\", index=False)"
      ]
    },
    {
      "cell_type": "code",
      "execution_count": 44,
      "metadata": {},
      "outputs": [
        {
          "data": {
            "text/plain": [
              "0    200624\n",
              "1    133000\n",
              "2    110000\n",
              "3    192000\n",
              "4     88000\n",
              "Name: SalePrice, dtype: int64"
            ]
          },
          "execution_count": 44,
          "metadata": {},
          "output_type": "execute_result"
        }
      ],
      "source": [
        "y_test.head()"
      ]
    },
    {
      "cell_type": "code",
      "execution_count": 45,
      "metadata": {},
      "outputs": [],
      "source": [
        "y_test.to_csv(f\"{file_path}/y_test.csv\", index=False)"
      ]
    },
    {
      "cell_type": "markdown",
      "metadata": {},
      "source": [
        "## Pipeline"
      ]
    },
    {
      "cell_type": "code",
      "execution_count": 46,
      "metadata": {},
      "outputs": [
        {
          "data": {
            "text/html": [
              "<style>#sk-container-id-2 {color: black;}#sk-container-id-2 pre{padding: 0;}#sk-container-id-2 div.sk-toggleable {background-color: white;}#sk-container-id-2 label.sk-toggleable__label {cursor: pointer;display: block;width: 100%;margin-bottom: 0;padding: 0.3em;box-sizing: border-box;text-align: center;}#sk-container-id-2 label.sk-toggleable__label-arrow:before {content: \"▸\";float: left;margin-right: 0.25em;color: #696969;}#sk-container-id-2 label.sk-toggleable__label-arrow:hover:before {color: black;}#sk-container-id-2 div.sk-estimator:hover label.sk-toggleable__label-arrow:before {color: black;}#sk-container-id-2 div.sk-toggleable__content {max-height: 0;max-width: 0;overflow: hidden;text-align: left;background-color: #f0f8ff;}#sk-container-id-2 div.sk-toggleable__content pre {margin: 0.2em;color: black;border-radius: 0.25em;background-color: #f0f8ff;}#sk-container-id-2 input.sk-toggleable__control:checked~div.sk-toggleable__content {max-height: 200px;max-width: 100%;overflow: auto;}#sk-container-id-2 input.sk-toggleable__control:checked~label.sk-toggleable__label-arrow:before {content: \"▾\";}#sk-container-id-2 div.sk-estimator input.sk-toggleable__control:checked~label.sk-toggleable__label {background-color: #d4ebff;}#sk-container-id-2 div.sk-label input.sk-toggleable__control:checked~label.sk-toggleable__label {background-color: #d4ebff;}#sk-container-id-2 input.sk-hidden--visually {border: 0;clip: rect(1px 1px 1px 1px);clip: rect(1px, 1px, 1px, 1px);height: 1px;margin: -1px;overflow: hidden;padding: 0;position: absolute;width: 1px;}#sk-container-id-2 div.sk-estimator {font-family: monospace;background-color: #f0f8ff;border: 1px dotted black;border-radius: 0.25em;box-sizing: border-box;margin-bottom: 0.5em;}#sk-container-id-2 div.sk-estimator:hover {background-color: #d4ebff;}#sk-container-id-2 div.sk-parallel-item::after {content: \"\";width: 100%;border-bottom: 1px solid gray;flex-grow: 1;}#sk-container-id-2 div.sk-label:hover label.sk-toggleable__label {background-color: #d4ebff;}#sk-container-id-2 div.sk-serial::before {content: \"\";position: absolute;border-left: 1px solid gray;box-sizing: border-box;top: 0;bottom: 0;left: 50%;z-index: 0;}#sk-container-id-2 div.sk-serial {display: flex;flex-direction: column;align-items: center;background-color: white;padding-right: 0.2em;padding-left: 0.2em;position: relative;}#sk-container-id-2 div.sk-item {position: relative;z-index: 1;}#sk-container-id-2 div.sk-parallel {display: flex;align-items: stretch;justify-content: center;background-color: white;position: relative;}#sk-container-id-2 div.sk-item::before, #sk-container-id-2 div.sk-parallel-item::before {content: \"\";position: absolute;border-left: 1px solid gray;box-sizing: border-box;top: 0;bottom: 0;left: 50%;z-index: -1;}#sk-container-id-2 div.sk-parallel-item {display: flex;flex-direction: column;z-index: 1;position: relative;background-color: white;}#sk-container-id-2 div.sk-parallel-item:first-child::after {align-self: flex-end;width: 50%;}#sk-container-id-2 div.sk-parallel-item:last-child::after {align-self: flex-start;width: 50%;}#sk-container-id-2 div.sk-parallel-item:only-child::after {width: 0;}#sk-container-id-2 div.sk-dashed-wrapped {border: 1px dashed gray;margin: 0 0.4em 0.5em 0.4em;box-sizing: border-box;padding-bottom: 0.4em;background-color: white;}#sk-container-id-2 div.sk-label label {font-family: monospace;font-weight: bold;display: inline-block;line-height: 1.2em;}#sk-container-id-2 div.sk-label-container {text-align: center;}#sk-container-id-2 div.sk-container {/* jupyter's `normalize.less` sets `[hidden] { display: none; }` but bootstrap.min.css set `[hidden] { display: none !important; }` so we also need the `!important` here to be able to override the default hidden behavior on the sphinx rendered scikit-learn.org. See: https://github.com/scikit-learn/scikit-learn/issues/21755 */display: inline-block !important;position: relative;}#sk-container-id-2 div.sk-text-repr-fallback {display: none;}</style><div id=\"sk-container-id-2\" class=\"sk-top-container\"><div class=\"sk-text-repr-fallback\"><pre>Pipeline(steps=[(&#x27;scaler&#x27;, StandardScaler()),\n",
              "                (&#x27;model&#x27;,\n",
              "                 ExtraTreesRegressor(max_depth=15, n_estimators=150,\n",
              "                                     random_state=0))])</pre><b>In a Jupyter environment, please rerun this cell to show the HTML representation or trust the notebook. <br />On GitHub, the HTML representation is unable to render, please try loading this page with nbviewer.org.</b></div><div class=\"sk-container\" hidden><div class=\"sk-item sk-dashed-wrapped\"><div class=\"sk-label-container\"><div class=\"sk-label sk-toggleable\"><input class=\"sk-toggleable__control sk-hidden--visually\" id=\"sk-estimator-id-4\" type=\"checkbox\" ><label for=\"sk-estimator-id-4\" class=\"sk-toggleable__label sk-toggleable__label-arrow\">Pipeline</label><div class=\"sk-toggleable__content\"><pre>Pipeline(steps=[(&#x27;scaler&#x27;, StandardScaler()),\n",
              "                (&#x27;model&#x27;,\n",
              "                 ExtraTreesRegressor(max_depth=15, n_estimators=150,\n",
              "                                     random_state=0))])</pre></div></div></div><div class=\"sk-serial\"><div class=\"sk-item\"><div class=\"sk-estimator sk-toggleable\"><input class=\"sk-toggleable__control sk-hidden--visually\" id=\"sk-estimator-id-5\" type=\"checkbox\" ><label for=\"sk-estimator-id-5\" class=\"sk-toggleable__label sk-toggleable__label-arrow\">StandardScaler</label><div class=\"sk-toggleable__content\"><pre>StandardScaler()</pre></div></div></div><div class=\"sk-item\"><div class=\"sk-estimator sk-toggleable\"><input class=\"sk-toggleable__control sk-hidden--visually\" id=\"sk-estimator-id-6\" type=\"checkbox\" ><label for=\"sk-estimator-id-6\" class=\"sk-toggleable__label sk-toggleable__label-arrow\">ExtraTreesRegressor</label><div class=\"sk-toggleable__content\"><pre>ExtraTreesRegressor(max_depth=15, n_estimators=150, random_state=0)</pre></div></div></div></div></div></div></div>"
            ],
            "text/plain": [
              "Pipeline(steps=[('scaler', StandardScaler()),\n",
              "                ('model',\n",
              "                 ExtraTreesRegressor(max_depth=15, n_estimators=150,\n",
              "                                     random_state=0))])"
            ]
          },
          "execution_count": 46,
          "metadata": {},
          "output_type": "execute_result"
        }
      ],
      "source": [
        "best_regressor_pipeline"
      ]
    },
    {
      "cell_type": "code",
      "execution_count": 47,
      "metadata": {},
      "outputs": [
        {
          "data": {
            "text/plain": [
              "['outputs/ml_pipeline/predict_sale_price/v1/best_regressor_pipeline.pkl']"
            ]
          },
          "execution_count": 47,
          "metadata": {},
          "output_type": "execute_result"
        }
      ],
      "source": [
        "joblib.dump(\n",
        "    value=best_regressor_pipeline, filename=f\"{file_path}/best_regressor_pipeline.pkl\"\n",
        ")"
      ]
    },
    {
      "cell_type": "markdown",
      "metadata": {},
      "source": [
        "## Feature Importance Plot"
      ]
    },
    {
      "cell_type": "code",
      "execution_count": 48,
      "metadata": {},
      "outputs": [
        {
          "data": {
            "image/png": "[encoded data removed]",
            "text/plain": [
              "<Figure size 640x480 with 1 Axes>"
            ]
          },
          "metadata": {},
          "output_type": "display_data"
        }
      ],
      "source": [
        "df_feature_importance.plot(kind=\"bar\", x=\"Feature\", y=\"Importance\")\n",
        "plt.show()"
      ]
    },
    {
      "cell_type": "code",
      "execution_count": 49,
      "metadata": {},
      "outputs": [
        {
          "data": {
            "image/png": "[encoded data removed]",
            "text/plain": [
              "<Figure size 640x480 with 1 Axes>"
            ]
          },
          "metadata": {},
          "output_type": "display_data"
        }
      ],
      "source": [
        "df_feature_importance.plot(kind=\"bar\", x=\"Feature\", y=\"Importance\")\n",
        "plt.savefig(f\"{file_path}/feature_importance.png\", bbox_inches=\"tight\")"
      ]
    },
    {
      "cell_type": "code",
      "execution_count": 50,
      "metadata": {},
      "outputs": [
        {
          "name": "stdout",
          "output_type": "stream",
          "text": [
            "Files saved to: outputs/ml_pipeline/predict_sale_price/v1\n",
            "Saved files: ['y_train.csv', 'X_test.csv', 'feature_importance.png', 'X_train.csv', 'y_test.csv', 'best_regressor_pipeline.pkl']\n"
          ]
        }
      ],
      "source": [
        "import os\n",
        "\n",
        "print(\"Files saved to:\", file_path)\n",
        "print(\"Saved files:\", os.listdir(file_path))"
      ]
    },
    {
      "cell_type": "markdown",
      "metadata": {},
      "source": [
        "This completes the notebook."
      ]
    }
  ],
  "metadata": {
    "accelerator": "GPU",
    "colab": {
      "name": "Data Practitioner Jupyter Notebook.ipynb",
      "provenance": [],
      "toc_visible": true
    },
    "kernelspec": {
      "display_name": "3.12.1",
      "language": "python",
      "name": "python3"
    },
    "language_info": {
      "codemirror_mode": {
        "name": "ipython",
        "version": 3
      },
      "file_extension": ".py",
      "mimetype": "text/x-python",
      "name": "python",
      "nbconvert_exporter": "python",
      "pygments_lexer": "ipython3",
      "version": "3.12.1"
    },
    "orig_nbformat": 2
  },
  "nbformat": 4,
  "nbformat_minor": 2
}
