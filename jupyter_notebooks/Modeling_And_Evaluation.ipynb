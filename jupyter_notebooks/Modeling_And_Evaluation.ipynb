{
  "cells": [
    {
      "cell_type": "markdown",
      "metadata": {
        "id": "0aStgWSO0E0E"
      },
      "source": [
        "# **Modeling and Evaluation Notebook**"
      ]
    },
    {
      "cell_type": "markdown",
      "metadata": {
        "id": "1eLEkw5O0ECa"
      },
      "source": [
        "## Objectives\n",
        "\n",
        "- Answer Business Requirement 2: train regression models to predict house sale prices\n",
        "- Fit and evaluate a regression model to predict the sale price of a house\n",
        "\n",
        "## Inputs\n",
        "\n",
        "- outputs/datasets/cleaned/HousePricesCleaned.csv\n",
        "- Instructions on which variables to use for data cleaning and feature engineering. They are found in each respective notebook.\n",
        "\n",
        "## Outputs\n",
        "\n",
        "- Train set (features and target)\n",
        "- Test set (features and target)\n",
        "- ML pipeline to predict sale price\n",
        "- Feature importance plot\n",
        "\n"
      ]
    },
    {
      "cell_type": "markdown",
      "metadata": {
        "id": "9uWZXH9LwoQg"
      },
      "source": [
        "---"
      ]
    },
    {
      "cell_type": "markdown",
      "metadata": {
        "id": "cqP-UeN-z3i2"
      },
      "source": [
        "# Change working directory"
      ]
    },
    {
      "cell_type": "code",
      "execution_count": null,
      "metadata": {
        "id": "wZfF_j-Bz3i4",
        "outputId": "66943449-1436-4c3d-85c7-b85f9f78349b"
      },
      "outputs": [],
      "source": [
        "import os\n",
        "\n",
        "# set project root\n",
        "dir_path = os.getcwd()\n",
        "os.chdir(os.path.dirname(dir_path))\n",
        "print(\"Working dir:\", os.getcwd())"
      ]
    },
    {
      "cell_type": "markdown",
      "metadata": {
        "id": "-mavJ8DibrcQ"
      },
      "source": [
        "## Load Feature Engineered Datasets"
      ]
    },
    {
      "cell_type": "code",
      "execution_count": null,
      "metadata": {},
      "outputs": [],
      "source": [
        "import pandas as pd\n",
        "\n",
        "# Load Train Set\n",
        "train_path = \"outputs/datasets/feature_engineered/Train_FE.csv\"\n",
        "train_df = pd.read_csv(train_path)\n",
        "\n",
        "# Load Test Set\n",
        "test_path = \"outputs/datasets/feature_engineered/Test_FE.csv\"\n",
        "test_df = pd.read_csv(test_path)\n",
        "\n",
        "# Split features and target\n",
        "X_train = train_df.drop(\"SalePrice\", axis=1)\n",
        "y_train = train_df[\"SalePrice\"]\n",
        "\n",
        "X_test = test_df.drop(\"SalePrice\", axis=1)\n",
        "y_test = test_df[\"SalePrice\"]\n",
        "\n",
        "print(\"* Train set:\", X_train.shape, y_train.shape)\n",
        "print(\"* Test set:\", X_test.shape, y_test.shape)"
      ]
    },
    {
      "cell_type": "markdown",
      "metadata": {
        "id": "ZY3l0-AxO93d"
      },
      "source": [
        "---"
      ]
    },
    {
      "cell_type": "markdown",
      "metadata": {},
      "source": [
        "## Import Libraries and Suppress Warnings"
      ]
    },
    {
      "cell_type": "code",
      "execution_count": null,
      "metadata": {},
      "outputs": [],
      "source": [
        "import warnings\n",
        "\n",
        "warnings.filterwarnings(\"ignore\", category=FutureWarning)\n",
        "\n",
        "from sklearn.pipeline import Pipeline\n",
        "from sklearn.preprocessing import StandardScaler\n",
        "from sklearn.feature_selection import SelectFromModel\n",
        "from sklearn.tree import DecisionTreeRegressor\n",
        "from xgboost import XGBRegressor\n",
        "from sklearn.ensemble import (\n",
        "    GradientBoostingRegressor,\n",
        "    RandomForestRegressor,\n",
        "    AdaBoostRegressor,\n",
        "    ExtraTreesRegressor,\n",
        ")\n",
        "from sklearn.linear_model import LinearRegression"
      ]
    },
    {
      "cell_type": "markdown",
      "metadata": {},
      "source": [
        "### Load feature engineered datasets"
      ]
    },
    {
      "cell_type": "code",
      "execution_count": null,
      "metadata": {},
      "outputs": [],
      "source": [
        "\n",
        "X_train = pd.read_csv(\"outputs/datasets/feature_engineered/Train_FE.csv\").drop(\n",
        "    \"SalePrice\", axis=1\n",
        ")\n",
        "y_train = pd.read_csv(\"outputs/datasets/feature_engineered/Train_FE.csv\")[\"SalePrice\"]\n",
        "\n",
        "X_test = pd.read_csv(\"outputs/datasets/feature_engineered/Test_FE.csv\").drop(\n",
        "    \"SalePrice\", axis=1\n",
        ")\n",
        "y_test = pd.read_csv(\"outputs/datasets/feature_engineered/Test_FE.csv\")[\"SalePrice\"]"
      ]
    },
    {
      "cell_type": "markdown",
      "metadata": {},
      "source": [
        "Custom Class for Hyperparameter Optimization from Code Institute:"
      ]
    },
    {
      "cell_type": "code",
      "execution_count": null,
      "metadata": {},
      "outputs": [],
      "source": [
        "from sklearn.model_selection import GridSearchCV\n",
        "\n",
        "\n",
        "class HyperparameterOptimizationSearch:\n",
        "\n",
        "    def __init__(self, models, params):\n",
        "        self.models = models\n",
        "        self.params = params\n",
        "        self.keys = models.keys()\n",
        "        self.grid_searches = {}\n",
        "\n",
        "    def fit(self, X, y, cv, n_jobs, verbose=1, scoring=None, refit=False):\n",
        "        for key in self.keys:\n",
        "            print(f\"\\nRunning GridSearchCV for {key} \\n\")\n",
        "            model = PipelineRgr(self.models[key])\n",
        "\n",
        "            params = self.params[key]\n",
        "            gs = GridSearchCV(\n",
        "                model, params, cv=cv, n_jobs=n_jobs, verbose=verbose, scoring=scoring\n",
        "            )\n",
        "            gs.fit(X, y)\n",
        "            self.grid_searches[key] = gs\n",
        "\n",
        "    def score_summary(self, sort_by=\"mean_score\"):\n",
        "        def row(key, scores, params):\n",
        "            d = {\n",
        "                \"estimator\": key,\n",
        "                \"min_score\": min(scores),\n",
        "                \"max_score\": max(scores),\n",
        "                \"mean_score\": np.mean(scores),\n",
        "                \"std_score\": np.std(scores),\n",
        "            }\n",
        "            return pd.Series({**params, **d})\n",
        "\n",
        "        rows = []\n",
        "        for k in self.grid_searches:\n",
        "            params = self.grid_searches[k].cv_results_[\"params\"]\n",
        "            scores = []\n",
        "            for i in range(self.grid_searches[k].cv):\n",
        "                key = \"split{}_test_score\".format(i)\n",
        "                r = self.grid_searches[k].cv_results_[key]\n",
        "                scores.append(r.reshape(len(params), 1))\n",
        "\n",
        "            all_scores = np.hstack(scores)\n",
        "            for p, s in zip(params, all_scores):\n",
        "                rows.append((row(k, s, p)))\n",
        "\n",
        "        df = pd.concat(rows, axis=1).T.sort_values([sort_by], ascending=False)\n",
        "\n",
        "        columns = [\"estimator\", \"min_score\", \"mean_score\", \"max_score\", \"std_score\"]\n",
        "        columns = columns + [c for c in df.columns if c not in columns]\n",
        "\n",
        "        return df[columns], self.grid_searches"
      ]
    },
    {
      "cell_type": "code",
      "execution_count": null,
      "metadata": {},
      "outputs": [],
      "source": [
        "def PipelineRgr(model):\n",
        "    pipeline_base = Pipeline(\n",
        "        [\n",
        "            (\"scaler\", StandardScaler()),\n",
        "            (\"feat_selection\", SelectFromModel(model)),\n",
        "            (\"model\", model),\n",
        "        ]\n",
        "    )\n",
        "    return pipeline_base"
      ]
    },
    {
      "cell_type": "markdown",
      "metadata": {},
      "source": [
        "---"
      ]
    },
    {
      "cell_type": "markdown",
      "metadata": {},
      "source": [
        "## Grid Search CV - SKlearn"
      ]
    },
    {
      "cell_type": "markdown",
      "metadata": {},
      "source": [
        "Use standard hyperparameters to find most suitable algorithm"
      ]
    },
    {
      "cell_type": "code",
      "execution_count": null,
      "metadata": {},
      "outputs": [],
      "source": [
        "models_quick_search = {\n",
        "    \"LinearRegression\": LinearRegression(),\n",
        "    \"DecisionTreeRegressor\": DecisionTreeRegressor(random_state=0),\n",
        "    \"RandomForestRegressor\": RandomForestRegressor(random_state=0),\n",
        "    \"ExtraTreesRegressor\": ExtraTreesRegressor(random_state=0),\n",
        "    \"AdaBoostRegressor\": AdaBoostRegressor(random_state=0),\n",
        "    \"GradientBoostingRegressor\": GradientBoostingRegressor(random_state=0),\n",
        "    \"XGBRegressor\": XGBRegressor(random_state=0),\n",
        "}\n",
        "\n",
        "params_quick_search = {\n",
        "    \"LinearRegression\": {},\n",
        "    \"DecisionTreeRegressor\": {\n",
        "        \"model__max_depth\": [None, 4, 15],\n",
        "        \"model__min_samples_split\": [2, 50],\n",
        "        \"model__min_samples_leaf\": [1, 50],\n",
        "        \"model__max_leaf_nodes\": [None, 50],\n",
        "    },\n",
        "    \"RandomForestRegressor\": {\n",
        "        \"model__n_estimators\": [100, 50, 140],\n",
        "        \"model__max_depth\": [None, 4, 15],\n",
        "        \"model__min_samples_split\": [2, 50],\n",
        "        \"model__min_samples_leaf\": [1, 50],\n",
        "        \"model__max_leaf_nodes\": [None, 50],\n",
        "    },\n",
        "    \"ExtraTreesRegressor\": {\n",
        "        \"model__n_estimators\": [100, 50, 150],\n",
        "        \"model__max_depth\": [None, 3, 15],\n",
        "        \"model__min_samples_split\": [2, 50],\n",
        "        \"model__min_samples_leaf\": [1, 50],\n",
        "    },\n",
        "    \"AdaBoostRegressor\": {\n",
        "        \"model__n_estimators\": [50, 25, 80, 150],\n",
        "        \"model__learning_rate\": [1, 0.1, 2],\n",
        "        \"model__loss\": [\"linear\", \"square\", \"exponential\"],\n",
        "    },\n",
        "    \"GradientBoostingRegressor\": {\n",
        "        \"model__n_estimators\": [100, 50, 140],\n",
        "        \"model__learning_rate\": [0.1, 0.01, 0.001],\n",
        "        \"model__max_depth\": [3, 15, None],\n",
        "        \"model__min_samples_split\": [2, 50],\n",
        "        \"model__min_samples_leaf\": [1, 50],\n",
        "        \"model__max_leaf_nodes\": [None, 50],\n",
        "    },\n",
        "    \"XGBRegressor\": {\n",
        "        \"model__n_estimators\": [30, 80, 200],\n",
        "        \"model__max_depth\": [None, 3, 15],\n",
        "        \"model__learning_rate\": [0.01, 0.1, 0.001],\n",
        "        \"model__gamma\": [0, 0.1],\n",
        "    },\n",
        "}"
      ]
    },
    {
      "cell_type": "markdown",
      "metadata": {},
      "source": [
        "Quick GridSearch CV - Regression"
      ]
    },
    {
      "cell_type": "code",
      "execution_count": null,
      "metadata": {},
      "outputs": [],
      "source": [
        "search = HyperparameterOptimizationSearch(\n",
        "    models=models_quick_search, params=params_quick_search\n",
        ")\n",
        "search.fit(X_train, y_train, scoring=\"r2\", n_jobs=-1, cv=5)"
      ]
    },
    {
      "cell_type": "code",
      "execution_count": null,
      "metadata": {},
      "outputs": [],
      "source": [
        "grid_search_summary, grid_search_pipelines = search.score_summary(sort_by=\"mean_score\")\n",
        "grid_search_summary"
      ]
    },
    {
      "cell_type": "markdown",
      "metadata": {},
      "source": [
        "The result suggests that GradientBoosterRegressor is giving the best result. Therefore, it will be explored in more detail."
      ]
    },
    {
      "cell_type": "markdown",
      "metadata": {},
      "source": [
        "#### Do an extensive search on the most suitable algorithm, ie GradientBoosterRegressor, to find the best hyperparameter configuration."
      ]
    },
    {
      "cell_type": "code",
      "execution_count": null,
      "metadata": {},
      "outputs": [],
      "source": [
        "models_search = {\n",
        "    \"ExtraTreesRegressor\": ExtraTreesRegressor(random_state=0),\n",
        "}\n",
        "\n",
        "params_search = {\n",
        "    \"ExtraTreesRegressor\": {\n",
        "        \"model__n_estimators\": [50, 100, 150],\n",
        "        \"model__max_depth\": [None, 3, 15],\n",
        "        \"model__min_samples_split\": [2, 50],\n",
        "        \"model__min_samples_leaf\": [1, 50],\n",
        "    },\n",
        "}"
      ]
    },
    {
      "cell_type": "markdown",
      "metadata": {},
      "source": [
        "Extensive GridSearch CV - Regression"
      ]
    },
    {
      "cell_type": "code",
      "execution_count": null,
      "metadata": {},
      "outputs": [],
      "source": [
        "search = HyperparameterOptimizationSearch(models=models_search, params=params_search)\n",
        "search.fit(X_train, y_train, scoring=\"r2\", n_jobs=-1, cv=5)"
      ]
    },
    {
      "cell_type": "markdown",
      "metadata": {},
      "source": [
        "Check results"
      ]
    },
    {
      "cell_type": "code",
      "execution_count": null,
      "metadata": {},
      "outputs": [],
      "source": [
        "grid_search_summary, grid_search_pipelines = search.score_summary(sort_by=\"mean_score\")\n",
        "grid_search_summary"
      ]
    },
    {
      "cell_type": "markdown",
      "metadata": {},
      "source": [
        "Get best model name programmatically"
      ]
    },
    {
      "cell_type": "code",
      "execution_count": null,
      "metadata": {},
      "outputs": [],
      "source": [
        "best_model = grid_search_summary.iloc[0, 0]\n",
        "best_model"
      ]
    },
    {
      "cell_type": "markdown",
      "metadata": {},
      "source": [
        "Parameters for best model"
      ]
    },
    {
      "cell_type": "code",
      "execution_count": null,
      "metadata": {},
      "outputs": [],
      "source": [
        "best_parameters = grid_search_pipelines[best_model].best_params_\n",
        "best_parameters"
      ]
    },
    {
      "cell_type": "markdown",
      "metadata": {},
      "source": [
        "Define the best regressor pipeline"
      ]
    },
    {
      "cell_type": "code",
      "execution_count": null,
      "metadata": {},
      "outputs": [],
      "source": [
        "best_regressor_pipeline = grid_search_pipelines[best_model].best_estimator_\n",
        "best_regressor_pipeline"
      ]
    },
    {
      "cell_type": "markdown",
      "metadata": {},
      "source": [
        "## Assess Feature Importance"
      ]
    },
    {
      "cell_type": "code",
      "execution_count": null,
      "metadata": {},
      "outputs": [],
      "source": [
        "X_train.head(3)"
      ]
    },
    {
      "cell_type": "code",
      "execution_count": null,
      "metadata": {},
      "outputs": [],
      "source": [
        "%matplotlib inline\n",
        "\n",
        "import matplotlib.pyplot as plt\n",
        "\n",
        "df_feature_importance = pd.DataFrame(\n",
        "    data={\n",
        "        \"Feature\": X_train.columns[\n",
        "            best_regressor_pipeline[\"feat_selection\"].get_support()\n",
        "        ],\n",
        "        \"Importance\": best_regressor_pipeline[\"model\"].feature_importances_,\n",
        "    }\n",
        ").sort_values(by=\"Importance\", ascending=False)\n",
        "\n",
        "\n",
        "best_features = df_feature_importance[\"Feature\"].to_list()\n",
        "\n",
        "\n",
        "print(\n",
        "    f\"* These are the {len(best_features)} most important features in descending order. \"\n",
        "    f\"The model was trained on them: \\n{df_feature_importance['Feature'].to_list()}\"\n",
        ")\n",
        "\n",
        "df_feature_importance.plot(kind=\"bar\", x=\"Feature\", y=\"Importance\")\n",
        "plt.show()"
      ]
    },
    {
      "cell_type": "markdown",
      "metadata": {},
      "source": [
        "## Evaluate Pipeline on Train and Test Sets"
      ]
    },
    {
      "cell_type": "markdown",
      "metadata": {},
      "source": [
        "Measure how close regression line is to data points with mean and absolute error"
      ]
    },
    {
      "cell_type": "code",
      "execution_count": null,
      "metadata": {},
      "outputs": [],
      "source": [
        "# MSE\n",
        "from sklearn.metrics import mean_squared_error\n",
        "\n",
        "y_pred_train = best_regressor_pipeline.predict(X_train)\n",
        "print(\"Mean squared error\")\n",
        "mean_squared_error(y_train, predict)"
      ]
    },
    {
      "cell_type": "code",
      "execution_count": null,
      "metadata": {},
      "outputs": [],
      "source": [
        "# MAE\n",
        "from sklearn.metrics import mean_absolute_error\n",
        "\n",
        "y_pred_train = best_regressor_pipeline.predict(X_train)\n",
        "print(\"Mean absolute error\")\n",
        "mean_absolute_error(y_train, predict)"
      ]
    },
    {
      "cell_type": "code",
      "execution_count": null,
      "metadata": {},
      "outputs": [],
      "source": [
        "# R²\n",
        "from sklearn.metrics import r2_score\n",
        "\n",
        "y_pred_train = best_regressor_pipeline.predict(X_train)\n",
        "r2_score(y_train, predict)"
      ]
    },
    {
      "cell_type": "markdown",
      "metadata": {},
      "source": [
        "The R² score of 0.87+ is a very good score and indicates a good fit for our model."
      ]
    },
    {
      "cell_type": "code",
      "execution_count": null,
      "metadata": {},
      "outputs": [],
      "source": [
        "import seaborn as sns\n",
        "import matplotlib.pyplot as plt\n",
        "\n",
        "sns.scatterplot(x=y_pred_train, y=y_train, alpha=0.5)\n",
        "plt.xlabel(\"Predicted\")\n",
        "plt.ylabel(\"Actual\")\n",
        "plt.title(\"Predicted vs Actual - Training Set\")\n",
        "plt.show()"
      ]
    },
    {
      "cell_type": "markdown",
      "metadata": {},
      "source": [
        "## Rewrite Pipeline with the best parameters"
      ]
    },
    {
      "cell_type": "code",
      "execution_count": null,
      "metadata": {},
      "outputs": [],
      "source": [
        "best_features"
      ]
    },
    {
      "cell_type": "markdown",
      "metadata": {},
      "source": [
        "ML Pipeline for Modelling and Hyperparameter Optimization"
      ]
    },
    {
      "cell_type": "code",
      "execution_count": null,
      "metadata": {},
      "outputs": [],
      "source": [
        "def PipelineRgr(model):  # new def PipelineRgr\n",
        "    pipeline_base = Pipeline(\n",
        "        [\n",
        "            (\"scaler\", StandardScaler()),\n",
        "            # (\"feat_selection\", SelectFromModel(model)),\n",
        "            (\"model\", model),\n",
        "        ]\n",
        "    )\n",
        "\n",
        "    return pipeline_base"
      ]
    },
    {
      "cell_type": "markdown",
      "metadata": {},
      "source": [
        "Update Train and Test Sets with best features"
      ]
    },
    {
      "cell_type": "code",
      "execution_count": null,
      "metadata": {},
      "outputs": [],
      "source": [
        "X_train = X_train.filter(best_features)\n",
        "X_test = X_test.filter(best_features)\n",
        "\n",
        "print(X_train.shape, y_train.shape, X_test.shape, y_test.shape)\n",
        "X_train.head(5)"
      ]
    },
    {
      "cell_type": "code",
      "execution_count": null,
      "metadata": {},
      "outputs": [],
      "source": [
        "best_model"
      ]
    },
    {
      "cell_type": "code",
      "execution_count": null,
      "metadata": {},
      "outputs": [],
      "source": [
        "best_parameters"
      ]
    },
    {
      "cell_type": "markdown",
      "metadata": {},
      "source": [
        "Now we only apply the best parameters:"
      ]
    },
    {
      "cell_type": "code",
      "execution_count": null,
      "metadata": {},
      "outputs": [],
      "source": [
        "models_search = {\n",
        "    \"GradientBoostingRegressor\": GradientBoostingRegressor(random_state=0),\n",
        "}\n",
        "\n",
        "params_search = {\n",
        "    \"GradientBoostingRegressor\": {\n",
        "        \"model__learning_rate\": [0.05],\n",
        "        \"model__max_depth\": [5],\n",
        "        \"model__max_leaf_nodes\": [50],\n",
        "        \"model__min_samples_leaf\": [10],\n",
        "        \"model__min_samples_split\": [25],\n",
        "        \"model__n_estimators\": [75],\n",
        "        \"model__subsample\": [0.8],\n",
        "    }\n",
        "}"
      ]
    },
    {
      "cell_type": "code",
      "execution_count": null,
      "metadata": {},
      "outputs": [],
      "source": [
        "search = HyperparameterOptimizationSearch(models=models_search, params=params_search)\n",
        "search.fit(X_train, y_train, scoring=\"r2\", n_jobs=-1, cv=5)"
      ]
    },
    {
      "cell_type": "markdown",
      "metadata": {},
      "source": [
        "Fitting 5 folds for each of 1 candidates, totalling 5 fits"
      ]
    },
    {
      "cell_type": "code",
      "execution_count": null,
      "metadata": {},
      "outputs": [],
      "source": [
        "grid_search_summary, grid_search_pipelines = search.score_summary(sort_by=\"mean_score\")\n",
        "grid_search_summary"
      ]
    },
    {
      "cell_type": "markdown",
      "metadata": {},
      "source": [
        "Mean Score of 0.80 is still very good."
      ]
    },
    {
      "cell_type": "code",
      "execution_count": null,
      "metadata": {},
      "outputs": [],
      "source": [
        "print(X_train.shape, y_train.shape, X_test.shape, y_test.shape)\n",
        "X_train.head(3)"
      ]
    },
    {
      "cell_type": "code",
      "execution_count": null,
      "metadata": {},
      "outputs": [],
      "source": [
        "best_regressor_pipeline = grid_search_pipelines[best_model].best_estimator_\n",
        "best_regressor_pipeline"
      ]
    },
    {
      "cell_type": "markdown",
      "metadata": {},
      "source": [
        "---"
      ]
    },
    {
      "cell_type": "markdown",
      "metadata": {
        "id": "ltNetd085qHf"
      },
      "source": [
        "# Push files to Repo"
      ]
    },
    {
      "cell_type": "markdown",
      "metadata": {},
      "source": [
        "The following files will be created and pushed to the repo:\n",
        "\n",
        "- Train Set\n",
        "- Test Set\n",
        "- Modeling Pipeline\n",
        "- Feature importance Plot"
      ]
    },
    {
      "cell_type": "code",
      "execution_count": null,
      "metadata": {
        "id": "aKlnIozA4eQO",
        "outputId": "fd09bc1f-adb1-4511-f6ce-492a6af570c0"
      },
      "outputs": [],
      "source": [
        "import joblib\n",
        "import os\n",
        "\n",
        "version = \"v1\"\n",
        "file_path = f\"outputs/ml_pipeline/predict_sale_price/{version}\"\n",
        "\n",
        "try:\n",
        "    os.makedirs(name=file_path)\n",
        "except Exception as e:\n",
        "    print(e)"
      ]
    },
    {
      "cell_type": "markdown",
      "metadata": {},
      "source": [
        "## Train Set: Features And Target"
      ]
    },
    {
      "cell_type": "code",
      "execution_count": null,
      "metadata": {},
      "outputs": [],
      "source": [
        "print(X_train.shape)\n",
        "X_train.head()"
      ]
    },
    {
      "cell_type": "code",
      "execution_count": null,
      "metadata": {},
      "outputs": [],
      "source": [
        "X_train.to_csv(f\"{file_path}/X_train.csv\", index=False)"
      ]
    },
    {
      "cell_type": "code",
      "execution_count": null,
      "metadata": {},
      "outputs": [],
      "source": [
        "y_train.head()"
      ]
    },
    {
      "cell_type": "code",
      "execution_count": null,
      "metadata": {},
      "outputs": [],
      "source": [
        "y_train.to_csv(f\"{file_path}/y_train.csv\", index=False)"
      ]
    },
    {
      "cell_type": "markdown",
      "metadata": {},
      "source": [
        "## Test Set: Features And Target"
      ]
    },
    {
      "cell_type": "code",
      "execution_count": null,
      "metadata": {},
      "outputs": [],
      "source": [
        "print(X_test.shape)\n",
        "X_test.head()"
      ]
    },
    {
      "cell_type": "code",
      "execution_count": null,
      "metadata": {},
      "outputs": [],
      "source": [
        "X_test.to_csv(f\"{file_path}/X_test.csv\", index=False)"
      ]
    },
    {
      "cell_type": "code",
      "execution_count": null,
      "metadata": {},
      "outputs": [],
      "source": [
        "y_test.head()"
      ]
    },
    {
      "cell_type": "code",
      "execution_count": null,
      "metadata": {},
      "outputs": [],
      "source": [
        "y_test.to_csv(f\"{file_path}/y_test.csv\", index=False)"
      ]
    },
    {
      "cell_type": "markdown",
      "metadata": {},
      "source": [
        "## Pipeline"
      ]
    },
    {
      "cell_type": "code",
      "execution_count": null,
      "metadata": {},
      "outputs": [],
      "source": [
        "best_regressor_pipeline"
      ]
    },
    {
      "cell_type": "code",
      "execution_count": null,
      "metadata": {},
      "outputs": [],
      "source": [
        "joblib.dump(\n",
        "    value=best_regressor_pipeline, filename=f\"{file_path}/best_regressor_pipeline.pkl\"\n",
        ")"
      ]
    },
    {
      "cell_type": "markdown",
      "metadata": {},
      "source": [
        "## Feature Importance Plot"
      ]
    },
    {
      "cell_type": "code",
      "execution_count": null,
      "metadata": {},
      "outputs": [],
      "source": [
        "df_feature_importance.plot(kind=\"bar\", x=\"Feature\", y=\"Importance\")\n",
        "plt.show()"
      ]
    },
    {
      "cell_type": "code",
      "execution_count": null,
      "metadata": {},
      "outputs": [],
      "source": [
        "df_feature_importance.plot(kind=\"bar\", x=\"Feature\", y=\"Importance\")\n",
        "plt.savefig(f\"{file_path}/feature_importance.png\", bbox_inches=\"tight\")"
      ]
    },
    {
      "cell_type": "code",
      "execution_count": null,
      "metadata": {},
      "outputs": [],
      "source": [
        "import os\n",
        "\n",
        "print(\"Files saved to:\", file_path)\n",
        "print(\"Saved files:\", os.listdir(file_path))"
      ]
    },
    {
      "cell_type": "markdown",
      "metadata": {},
      "source": [
        "This completes the notebook."
      ]
    }
  ],
  "metadata": {
    "accelerator": "GPU",
    "colab": {
      "name": "Data Practitioner Jupyter Notebook.ipynb",
      "provenance": [],
      "toc_visible": true
    },
    "interpreter": {
      "hash": "8b8334dab9339717f727a1deaf837b322d7a41c20d15cc86be99a8e69ceec8ce"
    },
    "kernelspec": {
      "display_name": "Python 3.8.12 64-bit ('3.8.12': pyenv)",
      "name": "python3"
    },
    "language_info": {
      "codemirror_mode": {
        "name": "ipython",
        "version": 3
      },
      "file_extension": ".py",
      "mimetype": "text/x-python",
      "name": "python",
      "nbconvert_exporter": "python",
      "pygments_lexer": "ipython3",
      "version": "3.8.12"
    },
    "orig_nbformat": 2
  },
  "nbformat": 4,
  "nbformat_minor": 2
}
